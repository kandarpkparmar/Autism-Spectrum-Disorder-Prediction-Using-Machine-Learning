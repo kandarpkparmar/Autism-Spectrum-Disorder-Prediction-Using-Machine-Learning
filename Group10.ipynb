{
  "nbformat": 4,
  "nbformat_minor": 0,
  "metadata": {
    "colab": {
      "name": "Group10.ipynb",
      "provenance": [],
      "collapsed_sections": []
    },
    "kernelspec": {
      "name": "python3",
      "display_name": "Python 3"
    },
    "language_info": {
      "name": "python"
    }
  },
  "cells": [
    {
      "cell_type": "markdown",
      "source": [
        "## **Group 10:** *Machine Learning approach to predict autism spectrum disorder* "
      ],
      "metadata": {
        "id": "f81oeFyOns_t"
      }
    },
    {
      "cell_type": "code",
      "execution_count": 54,
      "metadata": {
        "id": "e0I_En4HKiDM"
      },
      "outputs": [],
      "source": [
        "#Importing Libraries\n",
        "import numpy as np\n",
        "import matplotlib.pyplot as plt\n",
        "import pandas as pd\n",
        "import seaborn as sns\n",
        "import warnings\n",
        "warnings.filterwarnings(\"ignore\")"
      ]
    },
    {
      "cell_type": "markdown",
      "source": [
        "## **Exploratory Data Analysis**"
      ],
      "metadata": {
        "id": "nabBr7wUK9Ke"
      }
    },
    {
      "cell_type": "code",
      "source": [
        "#Import the dataset\n",
        "url = \"https://raw.githubusercontent.com/vidhishah19/autism_spectrum/main/Autism_Data.csv\"\n",
        "\n",
        "#Read the csv\n",
        "data = pd.read_csv(url)"
      ],
      "metadata": {
        "id": "luhA7oUfKrmp"
      },
      "execution_count": 55,
      "outputs": []
    },
    {
      "cell_type": "code",
      "source": [
        "#Defining the number or rows and columns\n",
        "print(data.shape)"
      ],
      "metadata": {
        "colab": {
          "base_uri": "https://localhost:8080/"
        },
        "id": "39eWOATANrQ1",
        "outputId": "189c419a-6395-4856-bdf0-e93494542150"
      },
      "execution_count": 56,
      "outputs": [
        {
          "output_type": "stream",
          "name": "stdout",
          "text": [
            "(1100, 21)\n"
          ]
        }
      ]
    },
    {
      "cell_type": "markdown",
      "source": [
        "\n",
        "\n",
        "> Dataset consists of 1100 rows and 21 columns.\n",
        "\n"
      ],
      "metadata": {
        "id": "UtE9ZeuGRXyU"
      }
    },
    {
      "cell_type": "code",
      "source": [
        "#Handling null values\n",
        "data = pd.read_csv(url, na_values=['?'])\n",
        "data.isnull().sum()"
      ],
      "metadata": {
        "colab": {
          "base_uri": "https://localhost:8080/"
        },
        "id": "Re8V2721-87y",
        "outputId": "4aadfce6-d662-4bec-86e1-0e4aaeeb6579"
      },
      "execution_count": 57,
      "outputs": [
        {
          "output_type": "execute_result",
          "data": {
            "text/plain": [
              "age                  6\n",
              "gender               0\n",
              "ethnicity          144\n",
              "jundice              0\n",
              "autism               0\n",
              "relation           144\n",
              "contry_of_res        0\n",
              "used_app_before      0\n",
              "age_desc             0\n",
              "A1_Score             0\n",
              "A2_Score             0\n",
              "A3_Score             0\n",
              "A4_Score             0\n",
              "A5_Score             0\n",
              "A6_Score             0\n",
              "A7_Score             0\n",
              "A8_Score             0\n",
              "A9_Score             0\n",
              "A10_Score            0\n",
              "result               0\n",
              "Class                0\n",
              "dtype: int64"
            ]
          },
          "metadata": {},
          "execution_count": 57
        }
      ]
    },
    {
      "cell_type": "code",
      "source": [
        "#Displaying the dataset\n",
        "data"
      ],
      "metadata": {
        "colab": {
          "base_uri": "https://localhost:8080/",
          "height": 661
        },
        "id": "0aYGwpd2RTEG",
        "outputId": "84ae5cda-48f5-4a8c-c04b-3b39dada2ac0"
      },
      "execution_count": 58,
      "outputs": [
        {
          "output_type": "execute_result",
          "data": {
            "text/plain": [
              "       age gender          ethnicity jundice autism relation    contry_of_res  \\\n",
              "0      6.0      m             Others      no     no   Parent           Jordan   \n",
              "1      6.0      m  'Middle Eastern '      no     no   Parent           Jordan   \n",
              "2      6.0      m                NaN      no     no      NaN           Jordan   \n",
              "3      5.0      f                NaN     yes     no      NaN           Jordan   \n",
              "4      5.0      m             Others     yes     no   Parent  'United States'   \n",
              "...    ...    ...                ...     ...    ...      ...              ...   \n",
              "1095  25.0      f     White-European      no     no     Self           Russia   \n",
              "1096  34.0      m           Hispanic      no     no   Parent           Mexico   \n",
              "1097  24.0      f                NaN      no     no      NaN           Russia   \n",
              "1098  35.0      m      'South Asian'      no     no     Self         Pakistan   \n",
              "1099  26.0      f     White-European      no     no     Self           Cyprus   \n",
              "\n",
              "     used_app_before       age_desc  A1_Score  ...  A3_Score  A4_Score  \\\n",
              "0                 no   '4-11 years'         1  ...         0         0   \n",
              "1                 no   '4-11 years'         1  ...         0         0   \n",
              "2                yes   '4-11 years'         1  ...         0         0   \n",
              "3                 no   '4-11 years'         0  ...         0         0   \n",
              "4                 no   '4-11 years'         1  ...         1         1   \n",
              "...              ...            ...       ...  ...       ...       ...   \n",
              "1095              no  '18 and more'         0  ...         0         1   \n",
              "1096              no  '18 and more'         1  ...         0         0   \n",
              "1097              no  '18 and more'         1  ...         1         1   \n",
              "1098              no  '18 and more'         1  ...         0         1   \n",
              "1099              no  '18 and more'         1  ...         1         1   \n",
              "\n",
              "      A5_Score  A6_Score  A7_Score  A8_Score  A9_Score  A10_Score  result  \\\n",
              "0            1         1         0         1         0          0       5   \n",
              "1            1         1         0         1         0          0       5   \n",
              "2            0         1         1         1         0          0       5   \n",
              "3            1         1         0         0         0          1       4   \n",
              "4            1         1         1         1         1          1      10   \n",
              "...        ...       ...       ...       ...       ...        ...     ...   \n",
              "1095         1         0         1         1         1          1       7   \n",
              "1096         0         0         0         1         0          1       3   \n",
              "1097         1         0         1         1         0          1       7   \n",
              "1098         1         0         1         0         1          1       6   \n",
              "1099         1         0         1         1         1          1       8   \n",
              "\n",
              "      Class  \n",
              "0        NO  \n",
              "1        NO  \n",
              "2        NO  \n",
              "3        NO  \n",
              "4       YES  \n",
              "...     ...  \n",
              "1095    YES  \n",
              "1096     NO  \n",
              "1097    YES  \n",
              "1098     NO  \n",
              "1099    YES  \n",
              "\n",
              "[1100 rows x 21 columns]"
            ],
            "text/html": [
              "\n",
              "  <div id=\"df-e4751c36-83c3-49ed-b0a4-b3ff6fccb5be\">\n",
              "    <div class=\"colab-df-container\">\n",
              "      <div>\n",
              "<style scoped>\n",
              "    .dataframe tbody tr th:only-of-type {\n",
              "        vertical-align: middle;\n",
              "    }\n",
              "\n",
              "    .dataframe tbody tr th {\n",
              "        vertical-align: top;\n",
              "    }\n",
              "\n",
              "    .dataframe thead th {\n",
              "        text-align: right;\n",
              "    }\n",
              "</style>\n",
              "<table border=\"1\" class=\"dataframe\">\n",
              "  <thead>\n",
              "    <tr style=\"text-align: right;\">\n",
              "      <th></th>\n",
              "      <th>age</th>\n",
              "      <th>gender</th>\n",
              "      <th>ethnicity</th>\n",
              "      <th>jundice</th>\n",
              "      <th>autism</th>\n",
              "      <th>relation</th>\n",
              "      <th>contry_of_res</th>\n",
              "      <th>used_app_before</th>\n",
              "      <th>age_desc</th>\n",
              "      <th>A1_Score</th>\n",
              "      <th>...</th>\n",
              "      <th>A3_Score</th>\n",
              "      <th>A4_Score</th>\n",
              "      <th>A5_Score</th>\n",
              "      <th>A6_Score</th>\n",
              "      <th>A7_Score</th>\n",
              "      <th>A8_Score</th>\n",
              "      <th>A9_Score</th>\n",
              "      <th>A10_Score</th>\n",
              "      <th>result</th>\n",
              "      <th>Class</th>\n",
              "    </tr>\n",
              "  </thead>\n",
              "  <tbody>\n",
              "    <tr>\n",
              "      <th>0</th>\n",
              "      <td>6.0</td>\n",
              "      <td>m</td>\n",
              "      <td>Others</td>\n",
              "      <td>no</td>\n",
              "      <td>no</td>\n",
              "      <td>Parent</td>\n",
              "      <td>Jordan</td>\n",
              "      <td>no</td>\n",
              "      <td>'4-11 years'</td>\n",
              "      <td>1</td>\n",
              "      <td>...</td>\n",
              "      <td>0</td>\n",
              "      <td>0</td>\n",
              "      <td>1</td>\n",
              "      <td>1</td>\n",
              "      <td>0</td>\n",
              "      <td>1</td>\n",
              "      <td>0</td>\n",
              "      <td>0</td>\n",
              "      <td>5</td>\n",
              "      <td>NO</td>\n",
              "    </tr>\n",
              "    <tr>\n",
              "      <th>1</th>\n",
              "      <td>6.0</td>\n",
              "      <td>m</td>\n",
              "      <td>'Middle Eastern '</td>\n",
              "      <td>no</td>\n",
              "      <td>no</td>\n",
              "      <td>Parent</td>\n",
              "      <td>Jordan</td>\n",
              "      <td>no</td>\n",
              "      <td>'4-11 years'</td>\n",
              "      <td>1</td>\n",
              "      <td>...</td>\n",
              "      <td>0</td>\n",
              "      <td>0</td>\n",
              "      <td>1</td>\n",
              "      <td>1</td>\n",
              "      <td>0</td>\n",
              "      <td>1</td>\n",
              "      <td>0</td>\n",
              "      <td>0</td>\n",
              "      <td>5</td>\n",
              "      <td>NO</td>\n",
              "    </tr>\n",
              "    <tr>\n",
              "      <th>2</th>\n",
              "      <td>6.0</td>\n",
              "      <td>m</td>\n",
              "      <td>NaN</td>\n",
              "      <td>no</td>\n",
              "      <td>no</td>\n",
              "      <td>NaN</td>\n",
              "      <td>Jordan</td>\n",
              "      <td>yes</td>\n",
              "      <td>'4-11 years'</td>\n",
              "      <td>1</td>\n",
              "      <td>...</td>\n",
              "      <td>0</td>\n",
              "      <td>0</td>\n",
              "      <td>0</td>\n",
              "      <td>1</td>\n",
              "      <td>1</td>\n",
              "      <td>1</td>\n",
              "      <td>0</td>\n",
              "      <td>0</td>\n",
              "      <td>5</td>\n",
              "      <td>NO</td>\n",
              "    </tr>\n",
              "    <tr>\n",
              "      <th>3</th>\n",
              "      <td>5.0</td>\n",
              "      <td>f</td>\n",
              "      <td>NaN</td>\n",
              "      <td>yes</td>\n",
              "      <td>no</td>\n",
              "      <td>NaN</td>\n",
              "      <td>Jordan</td>\n",
              "      <td>no</td>\n",
              "      <td>'4-11 years'</td>\n",
              "      <td>0</td>\n",
              "      <td>...</td>\n",
              "      <td>0</td>\n",
              "      <td>0</td>\n",
              "      <td>1</td>\n",
              "      <td>1</td>\n",
              "      <td>0</td>\n",
              "      <td>0</td>\n",
              "      <td>0</td>\n",
              "      <td>1</td>\n",
              "      <td>4</td>\n",
              "      <td>NO</td>\n",
              "    </tr>\n",
              "    <tr>\n",
              "      <th>4</th>\n",
              "      <td>5.0</td>\n",
              "      <td>m</td>\n",
              "      <td>Others</td>\n",
              "      <td>yes</td>\n",
              "      <td>no</td>\n",
              "      <td>Parent</td>\n",
              "      <td>'United States'</td>\n",
              "      <td>no</td>\n",
              "      <td>'4-11 years'</td>\n",
              "      <td>1</td>\n",
              "      <td>...</td>\n",
              "      <td>1</td>\n",
              "      <td>1</td>\n",
              "      <td>1</td>\n",
              "      <td>1</td>\n",
              "      <td>1</td>\n",
              "      <td>1</td>\n",
              "      <td>1</td>\n",
              "      <td>1</td>\n",
              "      <td>10</td>\n",
              "      <td>YES</td>\n",
              "    </tr>\n",
              "    <tr>\n",
              "      <th>...</th>\n",
              "      <td>...</td>\n",
              "      <td>...</td>\n",
              "      <td>...</td>\n",
              "      <td>...</td>\n",
              "      <td>...</td>\n",
              "      <td>...</td>\n",
              "      <td>...</td>\n",
              "      <td>...</td>\n",
              "      <td>...</td>\n",
              "      <td>...</td>\n",
              "      <td>...</td>\n",
              "      <td>...</td>\n",
              "      <td>...</td>\n",
              "      <td>...</td>\n",
              "      <td>...</td>\n",
              "      <td>...</td>\n",
              "      <td>...</td>\n",
              "      <td>...</td>\n",
              "      <td>...</td>\n",
              "      <td>...</td>\n",
              "      <td>...</td>\n",
              "    </tr>\n",
              "    <tr>\n",
              "      <th>1095</th>\n",
              "      <td>25.0</td>\n",
              "      <td>f</td>\n",
              "      <td>White-European</td>\n",
              "      <td>no</td>\n",
              "      <td>no</td>\n",
              "      <td>Self</td>\n",
              "      <td>Russia</td>\n",
              "      <td>no</td>\n",
              "      <td>'18 and more'</td>\n",
              "      <td>0</td>\n",
              "      <td>...</td>\n",
              "      <td>0</td>\n",
              "      <td>1</td>\n",
              "      <td>1</td>\n",
              "      <td>0</td>\n",
              "      <td>1</td>\n",
              "      <td>1</td>\n",
              "      <td>1</td>\n",
              "      <td>1</td>\n",
              "      <td>7</td>\n",
              "      <td>YES</td>\n",
              "    </tr>\n",
              "    <tr>\n",
              "      <th>1096</th>\n",
              "      <td>34.0</td>\n",
              "      <td>m</td>\n",
              "      <td>Hispanic</td>\n",
              "      <td>no</td>\n",
              "      <td>no</td>\n",
              "      <td>Parent</td>\n",
              "      <td>Mexico</td>\n",
              "      <td>no</td>\n",
              "      <td>'18 and more'</td>\n",
              "      <td>1</td>\n",
              "      <td>...</td>\n",
              "      <td>0</td>\n",
              "      <td>0</td>\n",
              "      <td>0</td>\n",
              "      <td>0</td>\n",
              "      <td>0</td>\n",
              "      <td>1</td>\n",
              "      <td>0</td>\n",
              "      <td>1</td>\n",
              "      <td>3</td>\n",
              "      <td>NO</td>\n",
              "    </tr>\n",
              "    <tr>\n",
              "      <th>1097</th>\n",
              "      <td>24.0</td>\n",
              "      <td>f</td>\n",
              "      <td>NaN</td>\n",
              "      <td>no</td>\n",
              "      <td>no</td>\n",
              "      <td>NaN</td>\n",
              "      <td>Russia</td>\n",
              "      <td>no</td>\n",
              "      <td>'18 and more'</td>\n",
              "      <td>1</td>\n",
              "      <td>...</td>\n",
              "      <td>1</td>\n",
              "      <td>1</td>\n",
              "      <td>1</td>\n",
              "      <td>0</td>\n",
              "      <td>1</td>\n",
              "      <td>1</td>\n",
              "      <td>0</td>\n",
              "      <td>1</td>\n",
              "      <td>7</td>\n",
              "      <td>YES</td>\n",
              "    </tr>\n",
              "    <tr>\n",
              "      <th>1098</th>\n",
              "      <td>35.0</td>\n",
              "      <td>m</td>\n",
              "      <td>'South Asian'</td>\n",
              "      <td>no</td>\n",
              "      <td>no</td>\n",
              "      <td>Self</td>\n",
              "      <td>Pakistan</td>\n",
              "      <td>no</td>\n",
              "      <td>'18 and more'</td>\n",
              "      <td>1</td>\n",
              "      <td>...</td>\n",
              "      <td>0</td>\n",
              "      <td>1</td>\n",
              "      <td>1</td>\n",
              "      <td>0</td>\n",
              "      <td>1</td>\n",
              "      <td>0</td>\n",
              "      <td>1</td>\n",
              "      <td>1</td>\n",
              "      <td>6</td>\n",
              "      <td>NO</td>\n",
              "    </tr>\n",
              "    <tr>\n",
              "      <th>1099</th>\n",
              "      <td>26.0</td>\n",
              "      <td>f</td>\n",
              "      <td>White-European</td>\n",
              "      <td>no</td>\n",
              "      <td>no</td>\n",
              "      <td>Self</td>\n",
              "      <td>Cyprus</td>\n",
              "      <td>no</td>\n",
              "      <td>'18 and more'</td>\n",
              "      <td>1</td>\n",
              "      <td>...</td>\n",
              "      <td>1</td>\n",
              "      <td>1</td>\n",
              "      <td>1</td>\n",
              "      <td>0</td>\n",
              "      <td>1</td>\n",
              "      <td>1</td>\n",
              "      <td>1</td>\n",
              "      <td>1</td>\n",
              "      <td>8</td>\n",
              "      <td>YES</td>\n",
              "    </tr>\n",
              "  </tbody>\n",
              "</table>\n",
              "<p>1100 rows × 21 columns</p>\n",
              "</div>\n",
              "      <button class=\"colab-df-convert\" onclick=\"convertToInteractive('df-e4751c36-83c3-49ed-b0a4-b3ff6fccb5be')\"\n",
              "              title=\"Convert this dataframe to an interactive table.\"\n",
              "              style=\"display:none;\">\n",
              "        \n",
              "  <svg xmlns=\"http://www.w3.org/2000/svg\" height=\"24px\"viewBox=\"0 0 24 24\"\n",
              "       width=\"24px\">\n",
              "    <path d=\"M0 0h24v24H0V0z\" fill=\"none\"/>\n",
              "    <path d=\"M18.56 5.44l.94 2.06.94-2.06 2.06-.94-2.06-.94-.94-2.06-.94 2.06-2.06.94zm-11 1L8.5 8.5l.94-2.06 2.06-.94-2.06-.94L8.5 2.5l-.94 2.06-2.06.94zm10 10l.94 2.06.94-2.06 2.06-.94-2.06-.94-.94-2.06-.94 2.06-2.06.94z\"/><path d=\"M17.41 7.96l-1.37-1.37c-.4-.4-.92-.59-1.43-.59-.52 0-1.04.2-1.43.59L10.3 9.45l-7.72 7.72c-.78.78-.78 2.05 0 2.83L4 21.41c.39.39.9.59 1.41.59.51 0 1.02-.2 1.41-.59l7.78-7.78 2.81-2.81c.8-.78.8-2.07 0-2.86zM5.41 20L4 18.59l7.72-7.72 1.47 1.35L5.41 20z\"/>\n",
              "  </svg>\n",
              "      </button>\n",
              "      \n",
              "  <style>\n",
              "    .colab-df-container {\n",
              "      display:flex;\n",
              "      flex-wrap:wrap;\n",
              "      gap: 12px;\n",
              "    }\n",
              "\n",
              "    .colab-df-convert {\n",
              "      background-color: #E8F0FE;\n",
              "      border: none;\n",
              "      border-radius: 50%;\n",
              "      cursor: pointer;\n",
              "      display: none;\n",
              "      fill: #1967D2;\n",
              "      height: 32px;\n",
              "      padding: 0 0 0 0;\n",
              "      width: 32px;\n",
              "    }\n",
              "\n",
              "    .colab-df-convert:hover {\n",
              "      background-color: #E2EBFA;\n",
              "      box-shadow: 0px 1px 2px rgba(60, 64, 67, 0.3), 0px 1px 3px 1px rgba(60, 64, 67, 0.15);\n",
              "      fill: #174EA6;\n",
              "    }\n",
              "\n",
              "    [theme=dark] .colab-df-convert {\n",
              "      background-color: #3B4455;\n",
              "      fill: #D2E3FC;\n",
              "    }\n",
              "\n",
              "    [theme=dark] .colab-df-convert:hover {\n",
              "      background-color: #434B5C;\n",
              "      box-shadow: 0px 1px 3px 1px rgba(0, 0, 0, 0.15);\n",
              "      filter: drop-shadow(0px 1px 2px rgba(0, 0, 0, 0.3));\n",
              "      fill: #FFFFFF;\n",
              "    }\n",
              "  </style>\n",
              "\n",
              "      <script>\n",
              "        const buttonEl =\n",
              "          document.querySelector('#df-e4751c36-83c3-49ed-b0a4-b3ff6fccb5be button.colab-df-convert');\n",
              "        buttonEl.style.display =\n",
              "          google.colab.kernel.accessAllowed ? 'block' : 'none';\n",
              "\n",
              "        async function convertToInteractive(key) {\n",
              "          const element = document.querySelector('#df-e4751c36-83c3-49ed-b0a4-b3ff6fccb5be');\n",
              "          const dataTable =\n",
              "            await google.colab.kernel.invokeFunction('convertToInteractive',\n",
              "                                                     [key], {});\n",
              "          if (!dataTable) return;\n",
              "\n",
              "          const docLinkHtml = 'Like what you see? Visit the ' +\n",
              "            '<a target=\"_blank\" href=https://colab.research.google.com/notebooks/data_table.ipynb>data table notebook</a>'\n",
              "            + ' to learn more about interactive tables.';\n",
              "          element.innerHTML = '';\n",
              "          dataTable['output_type'] = 'display_data';\n",
              "          await google.colab.output.renderOutput(dataTable, element);\n",
              "          const docLink = document.createElement('div');\n",
              "          docLink.innerHTML = docLinkHtml;\n",
              "          element.appendChild(docLink);\n",
              "        }\n",
              "      </script>\n",
              "    </div>\n",
              "  </div>\n",
              "  "
            ]
          },
          "metadata": {},
          "execution_count": 58
        }
      ]
    },
    {
      "cell_type": "code",
      "source": [
        "#Print out a description of the dataframe\n",
        "data.describe()"
      ],
      "metadata": {
        "colab": {
          "base_uri": "https://localhost:8080/",
          "height": 300
        },
        "id": "4EXQj-X2QLmA",
        "outputId": "3d5aeb6f-d681-418b-eb12-3a08f8694bd8"
      },
      "execution_count": 59,
      "outputs": [
        {
          "output_type": "execute_result",
          "data": {
            "text/plain": [
              "               age     A1_Score     A2_Score     A3_Score     A4_Score  \\\n",
              "count  1094.000000  1100.000000  1100.000000  1100.000000  1100.000000   \n",
              "mean     22.073126     0.699091     0.482727     0.551818     0.530000   \n",
              "std      16.879373     0.458862     0.499929     0.497534     0.499326   \n",
              "min       4.000000     0.000000     0.000000     0.000000     0.000000   \n",
              "25%      11.000000     0.000000     0.000000     0.000000     0.000000   \n",
              "50%      21.000000     1.000000     0.000000     1.000000     1.000000   \n",
              "75%      30.000000     1.000000     1.000000     1.000000     1.000000   \n",
              "max     383.000000     1.000000     1.000000     1.000000     1.000000   \n",
              "\n",
              "          A5_Score     A6_Score     A7_Score     A8_Score     A9_Score  \\\n",
              "count  1100.000000  1100.000000  1100.000000  1100.000000  1100.000000   \n",
              "mean      0.587273     0.443636     0.477273     0.605455     0.412727   \n",
              "std       0.492548     0.497039     0.499710     0.488975     0.492548   \n",
              "min       0.000000     0.000000     0.000000     0.000000     0.000000   \n",
              "25%       0.000000     0.000000     0.000000     0.000000     0.000000   \n",
              "50%       1.000000     0.000000     0.000000     1.000000     0.000000   \n",
              "75%       1.000000     1.000000     1.000000     1.000000     1.000000   \n",
              "max       1.000000     1.000000     1.000000     1.000000     1.000000   \n",
              "\n",
              "         A10_Score       result  \n",
              "count  1100.000000  1100.000000  \n",
              "mean      0.621818     5.411818  \n",
              "std       0.485154     2.523492  \n",
              "min       0.000000     0.000000  \n",
              "25%       0.000000     3.000000  \n",
              "50%       1.000000     5.000000  \n",
              "75%       1.000000     7.250000  \n",
              "max       1.000000    10.000000  "
            ],
            "text/html": [
              "\n",
              "  <div id=\"df-00e4a296-0908-4d71-9a5d-beae2083b2c2\">\n",
              "    <div class=\"colab-df-container\">\n",
              "      <div>\n",
              "<style scoped>\n",
              "    .dataframe tbody tr th:only-of-type {\n",
              "        vertical-align: middle;\n",
              "    }\n",
              "\n",
              "    .dataframe tbody tr th {\n",
              "        vertical-align: top;\n",
              "    }\n",
              "\n",
              "    .dataframe thead th {\n",
              "        text-align: right;\n",
              "    }\n",
              "</style>\n",
              "<table border=\"1\" class=\"dataframe\">\n",
              "  <thead>\n",
              "    <tr style=\"text-align: right;\">\n",
              "      <th></th>\n",
              "      <th>age</th>\n",
              "      <th>A1_Score</th>\n",
              "      <th>A2_Score</th>\n",
              "      <th>A3_Score</th>\n",
              "      <th>A4_Score</th>\n",
              "      <th>A5_Score</th>\n",
              "      <th>A6_Score</th>\n",
              "      <th>A7_Score</th>\n",
              "      <th>A8_Score</th>\n",
              "      <th>A9_Score</th>\n",
              "      <th>A10_Score</th>\n",
              "      <th>result</th>\n",
              "    </tr>\n",
              "  </thead>\n",
              "  <tbody>\n",
              "    <tr>\n",
              "      <th>count</th>\n",
              "      <td>1094.000000</td>\n",
              "      <td>1100.000000</td>\n",
              "      <td>1100.000000</td>\n",
              "      <td>1100.000000</td>\n",
              "      <td>1100.000000</td>\n",
              "      <td>1100.000000</td>\n",
              "      <td>1100.000000</td>\n",
              "      <td>1100.000000</td>\n",
              "      <td>1100.000000</td>\n",
              "      <td>1100.000000</td>\n",
              "      <td>1100.000000</td>\n",
              "      <td>1100.000000</td>\n",
              "    </tr>\n",
              "    <tr>\n",
              "      <th>mean</th>\n",
              "      <td>22.073126</td>\n",
              "      <td>0.699091</td>\n",
              "      <td>0.482727</td>\n",
              "      <td>0.551818</td>\n",
              "      <td>0.530000</td>\n",
              "      <td>0.587273</td>\n",
              "      <td>0.443636</td>\n",
              "      <td>0.477273</td>\n",
              "      <td>0.605455</td>\n",
              "      <td>0.412727</td>\n",
              "      <td>0.621818</td>\n",
              "      <td>5.411818</td>\n",
              "    </tr>\n",
              "    <tr>\n",
              "      <th>std</th>\n",
              "      <td>16.879373</td>\n",
              "      <td>0.458862</td>\n",
              "      <td>0.499929</td>\n",
              "      <td>0.497534</td>\n",
              "      <td>0.499326</td>\n",
              "      <td>0.492548</td>\n",
              "      <td>0.497039</td>\n",
              "      <td>0.499710</td>\n",
              "      <td>0.488975</td>\n",
              "      <td>0.492548</td>\n",
              "      <td>0.485154</td>\n",
              "      <td>2.523492</td>\n",
              "    </tr>\n",
              "    <tr>\n",
              "      <th>min</th>\n",
              "      <td>4.000000</td>\n",
              "      <td>0.000000</td>\n",
              "      <td>0.000000</td>\n",
              "      <td>0.000000</td>\n",
              "      <td>0.000000</td>\n",
              "      <td>0.000000</td>\n",
              "      <td>0.000000</td>\n",
              "      <td>0.000000</td>\n",
              "      <td>0.000000</td>\n",
              "      <td>0.000000</td>\n",
              "      <td>0.000000</td>\n",
              "      <td>0.000000</td>\n",
              "    </tr>\n",
              "    <tr>\n",
              "      <th>25%</th>\n",
              "      <td>11.000000</td>\n",
              "      <td>0.000000</td>\n",
              "      <td>0.000000</td>\n",
              "      <td>0.000000</td>\n",
              "      <td>0.000000</td>\n",
              "      <td>0.000000</td>\n",
              "      <td>0.000000</td>\n",
              "      <td>0.000000</td>\n",
              "      <td>0.000000</td>\n",
              "      <td>0.000000</td>\n",
              "      <td>0.000000</td>\n",
              "      <td>3.000000</td>\n",
              "    </tr>\n",
              "    <tr>\n",
              "      <th>50%</th>\n",
              "      <td>21.000000</td>\n",
              "      <td>1.000000</td>\n",
              "      <td>0.000000</td>\n",
              "      <td>1.000000</td>\n",
              "      <td>1.000000</td>\n",
              "      <td>1.000000</td>\n",
              "      <td>0.000000</td>\n",
              "      <td>0.000000</td>\n",
              "      <td>1.000000</td>\n",
              "      <td>0.000000</td>\n",
              "      <td>1.000000</td>\n",
              "      <td>5.000000</td>\n",
              "    </tr>\n",
              "    <tr>\n",
              "      <th>75%</th>\n",
              "      <td>30.000000</td>\n",
              "      <td>1.000000</td>\n",
              "      <td>1.000000</td>\n",
              "      <td>1.000000</td>\n",
              "      <td>1.000000</td>\n",
              "      <td>1.000000</td>\n",
              "      <td>1.000000</td>\n",
              "      <td>1.000000</td>\n",
              "      <td>1.000000</td>\n",
              "      <td>1.000000</td>\n",
              "      <td>1.000000</td>\n",
              "      <td>7.250000</td>\n",
              "    </tr>\n",
              "    <tr>\n",
              "      <th>max</th>\n",
              "      <td>383.000000</td>\n",
              "      <td>1.000000</td>\n",
              "      <td>1.000000</td>\n",
              "      <td>1.000000</td>\n",
              "      <td>1.000000</td>\n",
              "      <td>1.000000</td>\n",
              "      <td>1.000000</td>\n",
              "      <td>1.000000</td>\n",
              "      <td>1.000000</td>\n",
              "      <td>1.000000</td>\n",
              "      <td>1.000000</td>\n",
              "      <td>10.000000</td>\n",
              "    </tr>\n",
              "  </tbody>\n",
              "</table>\n",
              "</div>\n",
              "      <button class=\"colab-df-convert\" onclick=\"convertToInteractive('df-00e4a296-0908-4d71-9a5d-beae2083b2c2')\"\n",
              "              title=\"Convert this dataframe to an interactive table.\"\n",
              "              style=\"display:none;\">\n",
              "        \n",
              "  <svg xmlns=\"http://www.w3.org/2000/svg\" height=\"24px\"viewBox=\"0 0 24 24\"\n",
              "       width=\"24px\">\n",
              "    <path d=\"M0 0h24v24H0V0z\" fill=\"none\"/>\n",
              "    <path d=\"M18.56 5.44l.94 2.06.94-2.06 2.06-.94-2.06-.94-.94-2.06-.94 2.06-2.06.94zm-11 1L8.5 8.5l.94-2.06 2.06-.94-2.06-.94L8.5 2.5l-.94 2.06-2.06.94zm10 10l.94 2.06.94-2.06 2.06-.94-2.06-.94-.94-2.06-.94 2.06-2.06.94z\"/><path d=\"M17.41 7.96l-1.37-1.37c-.4-.4-.92-.59-1.43-.59-.52 0-1.04.2-1.43.59L10.3 9.45l-7.72 7.72c-.78.78-.78 2.05 0 2.83L4 21.41c.39.39.9.59 1.41.59.51 0 1.02-.2 1.41-.59l7.78-7.78 2.81-2.81c.8-.78.8-2.07 0-2.86zM5.41 20L4 18.59l7.72-7.72 1.47 1.35L5.41 20z\"/>\n",
              "  </svg>\n",
              "      </button>\n",
              "      \n",
              "  <style>\n",
              "    .colab-df-container {\n",
              "      display:flex;\n",
              "      flex-wrap:wrap;\n",
              "      gap: 12px;\n",
              "    }\n",
              "\n",
              "    .colab-df-convert {\n",
              "      background-color: #E8F0FE;\n",
              "      border: none;\n",
              "      border-radius: 50%;\n",
              "      cursor: pointer;\n",
              "      display: none;\n",
              "      fill: #1967D2;\n",
              "      height: 32px;\n",
              "      padding: 0 0 0 0;\n",
              "      width: 32px;\n",
              "    }\n",
              "\n",
              "    .colab-df-convert:hover {\n",
              "      background-color: #E2EBFA;\n",
              "      box-shadow: 0px 1px 2px rgba(60, 64, 67, 0.3), 0px 1px 3px 1px rgba(60, 64, 67, 0.15);\n",
              "      fill: #174EA6;\n",
              "    }\n",
              "\n",
              "    [theme=dark] .colab-df-convert {\n",
              "      background-color: #3B4455;\n",
              "      fill: #D2E3FC;\n",
              "    }\n",
              "\n",
              "    [theme=dark] .colab-df-convert:hover {\n",
              "      background-color: #434B5C;\n",
              "      box-shadow: 0px 1px 3px 1px rgba(0, 0, 0, 0.15);\n",
              "      filter: drop-shadow(0px 1px 2px rgba(0, 0, 0, 0.3));\n",
              "      fill: #FFFFFF;\n",
              "    }\n",
              "  </style>\n",
              "\n",
              "      <script>\n",
              "        const buttonEl =\n",
              "          document.querySelector('#df-00e4a296-0908-4d71-9a5d-beae2083b2c2 button.colab-df-convert');\n",
              "        buttonEl.style.display =\n",
              "          google.colab.kernel.accessAllowed ? 'block' : 'none';\n",
              "\n",
              "        async function convertToInteractive(key) {\n",
              "          const element = document.querySelector('#df-00e4a296-0908-4d71-9a5d-beae2083b2c2');\n",
              "          const dataTable =\n",
              "            await google.colab.kernel.invokeFunction('convertToInteractive',\n",
              "                                                     [key], {});\n",
              "          if (!dataTable) return;\n",
              "\n",
              "          const docLinkHtml = 'Like what you see? Visit the ' +\n",
              "            '<a target=\"_blank\" href=https://colab.research.google.com/notebooks/data_table.ipynb>data table notebook</a>'\n",
              "            + ' to learn more about interactive tables.';\n",
              "          element.innerHTML = '';\n",
              "          dataTable['output_type'] = 'display_data';\n",
              "          await google.colab.output.renderOutput(dataTable, element);\n",
              "          const docLink = document.createElement('div');\n",
              "          docLink.innerHTML = docLinkHtml;\n",
              "          element.appendChild(docLink);\n",
              "        }\n",
              "      </script>\n",
              "    </div>\n",
              "  </div>\n",
              "  "
            ]
          },
          "metadata": {},
          "execution_count": 59
        }
      ]
    },
    {
      "cell_type": "code",
      "source": [
        "data.nunique()"
      ],
      "metadata": {
        "colab": {
          "base_uri": "https://localhost:8080/"
        },
        "id": "t5Kmx7iU3yWv",
        "outputId": "db9abc48-9736-4f8a-8916-1920d556444e"
      },
      "execution_count": 60,
      "outputs": [
        {
          "output_type": "execute_result",
          "data": {
            "text/plain": [
              "age                59\n",
              "gender              2\n",
              "ethnicity          12\n",
              "jundice             2\n",
              "autism              2\n",
              "relation            6\n",
              "contry_of_res      89\n",
              "used_app_before     2\n",
              "age_desc            4\n",
              "A1_Score            2\n",
              "A2_Score            2\n",
              "A3_Score            2\n",
              "A4_Score            2\n",
              "A5_Score            2\n",
              "A6_Score            2\n",
              "A7_Score            2\n",
              "A8_Score            2\n",
              "A9_Score            2\n",
              "A10_Score           2\n",
              "result             11\n",
              "Class               2\n",
              "dtype: int64"
            ]
          },
          "metadata": {},
          "execution_count": 60
        }
      ]
    },
    {
      "cell_type": "markdown",
      "source": [
        "\n",
        "\n",
        "> All other features except age and country_of_res have sufficiently low cardinality to one-hot encode them.\n",
        "\n"
      ],
      "metadata": {
        "id": "vNDOdhqE4ItN"
      }
    },
    {
      "cell_type": "code",
      "source": [
        "#Drop unwanted columns\n",
        "data = data.drop(['age_desc', 'used_app_before', 'relation', 'result'], axis=1)"
      ],
      "metadata": {
        "id": "edzEKEyjQmpJ"
      },
      "execution_count": 61,
      "outputs": []
    },
    {
      "cell_type": "code",
      "source": [
        "#Rename the columns\n",
        "data.rename(columns = {'jundice':'jaundice', 'contry_of_res':'country_of_res'}, inplace = True)"
      ],
      "metadata": {
        "id": "9GS2Ysu8lx2n"
      },
      "execution_count": 62,
      "outputs": []
    },
    {
      "cell_type": "code",
      "source": [
        "#Displaying concise summary of data\n",
        "data.info()"
      ],
      "metadata": {
        "colab": {
          "base_uri": "https://localhost:8080/"
        },
        "id": "y8vPBmPZR1hN",
        "outputId": "4671a3a3-faa8-462b-f09d-5c232f0a9257"
      },
      "execution_count": 63,
      "outputs": [
        {
          "output_type": "stream",
          "name": "stdout",
          "text": [
            "<class 'pandas.core.frame.DataFrame'>\n",
            "RangeIndex: 1100 entries, 0 to 1099\n",
            "Data columns (total 17 columns):\n",
            " #   Column          Non-Null Count  Dtype  \n",
            "---  ------          --------------  -----  \n",
            " 0   age             1094 non-null   float64\n",
            " 1   gender          1100 non-null   object \n",
            " 2   ethnicity       956 non-null    object \n",
            " 3   jaundice        1100 non-null   object \n",
            " 4   autism          1100 non-null   object \n",
            " 5   country_of_res  1100 non-null   object \n",
            " 6   A1_Score        1100 non-null   int64  \n",
            " 7   A2_Score        1100 non-null   int64  \n",
            " 8   A3_Score        1100 non-null   int64  \n",
            " 9   A4_Score        1100 non-null   int64  \n",
            " 10  A5_Score        1100 non-null   int64  \n",
            " 11  A6_Score        1100 non-null   int64  \n",
            " 12  A7_Score        1100 non-null   int64  \n",
            " 13  A8_Score        1100 non-null   int64  \n",
            " 14  A9_Score        1100 non-null   int64  \n",
            " 15  A10_Score       1100 non-null   int64  \n",
            " 16  Class           1100 non-null   object \n",
            "dtypes: float64(1), int64(10), object(6)\n",
            "memory usage: 146.2+ KB\n"
          ]
        }
      ]
    },
    {
      "cell_type": "code",
      "source": [
        "#Datatype Handling\n",
        "data.dtypes"
      ],
      "metadata": {
        "colab": {
          "base_uri": "https://localhost:8080/"
        },
        "id": "3OlvU_waS3b8",
        "outputId": "6441843c-9253-440d-cbc7-dd146eb489ab"
      },
      "execution_count": 64,
      "outputs": [
        {
          "output_type": "execute_result",
          "data": {
            "text/plain": [
              "age               float64\n",
              "gender             object\n",
              "ethnicity          object\n",
              "jaundice           object\n",
              "autism             object\n",
              "country_of_res     object\n",
              "A1_Score            int64\n",
              "A2_Score            int64\n",
              "A3_Score            int64\n",
              "A4_Score            int64\n",
              "A5_Score            int64\n",
              "A6_Score            int64\n",
              "A7_Score            int64\n",
              "A8_Score            int64\n",
              "A9_Score            int64\n",
              "A10_Score           int64\n",
              "Class              object\n",
              "dtype: object"
            ]
          },
          "metadata": {},
          "execution_count": 64
        }
      ]
    },
    {
      "cell_type": "code",
      "source": [
        "#Total number of records\n",
        "n_records = len(data.index)\n",
        "\n",
        "#Number of records where individual's with ASD\n",
        "n_asd_yes = len(data[data['Class'] == 'YES'])\n",
        "\n",
        "#Number of records where individual's with no ASD\n",
        "n_asd_no = len(data[data['Class'] == 'NO'])\n",
        "\n",
        "#Percentage of individuals whose are with ASD\n",
        "yes_percent = float(n_asd_yes) / n_records *100\n",
        "\n",
        "# Print the results\n",
        "print (\"Total number of records:\", n_records)\n",
        "print (\"Individuals diagonised with ASD:\", n_asd_yes)\n",
        "print (\"Individuals not diagonised with ASD:\", n_asd_no)\n",
        "print (\"Percentage of individuals diagonised with ASD:\", yes_percent)"
      ],
      "metadata": {
        "id": "y-i_RlRKTtqg",
        "colab": {
          "base_uri": "https://localhost:8080/"
        },
        "outputId": "acd34fa8-f52b-4c01-d9a6-e40b76a89eb1"
      },
      "execution_count": 65,
      "outputs": [
        {
          "output_type": "stream",
          "name": "stdout",
          "text": [
            "Total number of records: 1100\n",
            "Individuals diagonised with ASD: 393\n",
            "Individuals not diagonised with ASD: 707\n",
            "Percentage of individuals diagonised with ASD: 35.72727272727273\n"
          ]
        }
      ]
    },
    {
      "cell_type": "code",
      "source": [
        "#Classifying countplot for person suffering from ASD \n",
        "print(data['Class'].value_counts())\n",
        "print(\"\\n\")\n",
        "sns.countplot(data['Class'])"
      ],
      "metadata": {
        "colab": {
          "base_uri": "https://localhost:8080/",
          "height": 383
        },
        "id": "Hb03qatD9jXs",
        "outputId": "667de80c-7db8-4e82-85b6-867142fae4f4"
      },
      "execution_count": 66,
      "outputs": [
        {
          "output_type": "stream",
          "name": "stdout",
          "text": [
            "NO     707\n",
            "YES    393\n",
            "Name: Class, dtype: int64\n",
            "\n",
            "\n"
          ]
        },
        {
          "output_type": "execute_result",
          "data": {
            "text/plain": [
              "<matplotlib.axes._subplots.AxesSubplot at 0x7f382a401190>"
            ]
          },
          "metadata": {},
          "execution_count": 66
        },
        {
          "output_type": "display_data",
          "data": {
            "text/plain": [
              "<Figure size 432x288 with 1 Axes>"
            ],
            "image/png": "[encoded data removed]"
          },
          "metadata": {
            "needs_background": "light"
          }
        }
      ]
    },
    {
      "cell_type": "code",
      "source": [
        "#Plotting Corrplot of the columns in dataset\n",
        "ig, ax = plt.subplots(figsize=(10,10))\n",
        "ax = sns.heatmap(data.corr(),annot=True,cmap='coolwarm',vmin=0, vmax=1)"
      ],
      "metadata": {
        "colab": {
          "base_uri": "https://localhost:8080/",
          "height": 638
        },
        "id": "bjXjsScTBABN",
        "outputId": "34b714b5-c455-484c-efc5-c70d70fc8eb9"
      },
      "execution_count": 67,
      "outputs": [
        {
          "output_type": "display_data",
          "data": {
            "text/plain": [
              "<Figure size 720x720 with 2 Axes>"
            ],
            "image/png": "[encoded data removed]"
          },
          "metadata": {
            "needs_background": "light"
          }
        }
      ]
    },
    {
      "cell_type": "code",
      "source": [
        "#Plotting pie chart of people suffering from autism spectrum of different age group\n",
        "child = []\n",
        "adol = []\n",
        "adult = []\n",
        "\n",
        "ages = data.iloc[:,0].tolist()\n",
        "ads = data.iloc[:,-1].tolist()\n",
        "\n",
        "for index in range(len(ages)):\n",
        "  if ads[index] == 'YES':\n",
        "    if ages[index] <= 11:\n",
        "      child.append(ages[index])\n",
        "    elif ages[index] > 11 and ages[index] <= 16:\n",
        "      adol.append(ages[index])\n",
        "    else:\n",
        "      adult.append(ages[index])\n",
        "\n",
        "y = np.array([len(child), len(adol), len(adult)])\n",
        "\n",
        "fig = plt.figure(figsize=(20,6))\n",
        "plt.pie(y,labels=[\"child\", \"adol\", \"adult\"], autopct='%1.1f%%', textprops={'fontsize': 14})\n",
        "plt.show()"
      ],
      "metadata": {
        "colab": {
          "base_uri": "https://localhost:8080/",
          "height": 357
        },
        "id": "Ta9nB40Ge9yK",
        "outputId": "276b1254-5cd7-4a61-a52e-17ffa8ea9430"
      },
      "execution_count": 68,
      "outputs": [
        {
          "output_type": "display_data",
          "data": {
            "text/plain": [
              "<Figure size 1440x432 with 1 Axes>"
            ],
            "image/png": "[encoded data removed]"
          },
          "metadata": {}
        }
      ]
    },
    {
      "cell_type": "code",
      "source": [
        "#Visualize positive ASD positive Adults based on top 15 countries\n",
        "plt.figure(figsize=(19,6))\n",
        "sns.countplot(x='country_of_res',data = data, order= data['country_of_res'].value_counts().index[:15],hue='gender',palette='viridis')\n",
        "plt.title('Positive ASD: Country wise distribution')\n",
        "plt.xlabel('Countries')\n",
        "plt.tight_layout()"
      ],
      "metadata": {
        "colab": {
          "base_uri": "https://localhost:8080/",
          "height": 414
        },
        "id": "ZiJIIvnopiv2",
        "outputId": "a0fdada3-ce22-4616-b60b-5c078bc023db"
      },
      "execution_count": 69,
      "outputs": [
        {
          "output_type": "display_data",
          "data": {
            "text/plain": [
              "<Figure size 1368x432 with 1 Axes>"
            ],
            "image/png": "[encoded data removed]"
          },
          "metadata": {
            "needs_background": "light"
          }
        }
      ]
    },
    {
      "cell_type": "code",
      "source": [
        "#Ethnicity value counts\n",
        "data['ethnicity'].value_counts()"
      ],
      "metadata": {
        "colab": {
          "base_uri": "https://localhost:8080/"
        },
        "id": "8asKk6c4uv1z",
        "outputId": "cd905d21-2446-421f-9750-8431f87db87f"
      },
      "execution_count": 70,
      "outputs": [
        {
          "output_type": "execute_result",
          "data": {
            "text/plain": [
              "White-European       381\n",
              "Asian                185\n",
              "'Middle Eastern '    127\n",
              "Black                 65\n",
              "'South Asian'         60\n",
              "Others                56\n",
              "Latino                33\n",
              "Hispanic              25\n",
              "Pasifika              14\n",
              "Turkish                8\n",
              "Middle Eastern '       1\n",
              "others                 1\n",
              "Name: ethnicity, dtype: int64"
            ]
          },
          "metadata": {},
          "execution_count": 70
        }
      ]
    },
    {
      "cell_type": "code",
      "source": [
        "#Plot for the Ethnicity\n",
        "sns.countplot(data['ethnicity'])\n",
        "plt.xticks(rotation=90)"
      ],
      "metadata": {
        "colab": {
          "base_uri": "https://localhost:8080/",
          "height": 392
        },
        "id": "6sOc4Bji7Tm-",
        "outputId": "bb498592-0796-445a-c37d-14818fb0227b"
      },
      "execution_count": 71,
      "outputs": [
        {
          "output_type": "execute_result",
          "data": {
            "text/plain": [
              "(array([ 0,  1,  2,  3,  4,  5,  6,  7,  8,  9, 10, 11]),\n",
              " <a list of 12 Text major ticklabel objects>)"
            ]
          },
          "metadata": {},
          "execution_count": 71
        },
        {
          "output_type": "display_data",
          "data": {
            "text/plain": [
              "<Figure size 432x288 with 1 Axes>"
            ],
            "image/png": "[encoded data removed]"
          },
          "metadata": {
            "needs_background": "light"
          }
        }
      ]
    },
    {
      "cell_type": "code",
      "source": [
        "#Positive ASD of White and European Ethnicities country wise distribution\n",
        "plt.figure(figsize=(15,6))\n",
        "sns.countplot(x='country_of_res',data = data[data['ethnicity']=='White-European'], order = data[data['ethnicity']=='White-European']['country_of_res'].value_counts().index[:10],palette='viridis')\n",
        "plt.title('Positive ASD of White and European Ethnicities country wise distribution')\n",
        "plt.xlabel('Countries')\n",
        "plt.tight_layout()"
      ],
      "metadata": {
        "colab": {
          "base_uri": "https://localhost:8080/",
          "height": 441
        },
        "id": "9mCRTtwfu8yk",
        "outputId": "f51f70e0-eaa8-4fa0-f681-7c7c507088a9"
      },
      "execution_count": 72,
      "outputs": [
        {
          "output_type": "display_data",
          "data": {
            "text/plain": [
              "<Figure size 1080x432 with 1 Axes>"
            ],
            "image/png": "[encoded data removed]"
          },
          "metadata": {
            "needs_background": "light"
          }
        }
      ]
    },
    {
      "cell_type": "markdown",
      "source": [
        "\n",
        "\n",
        "> From the above code we are considering both country and ethnicity because the reports suggests so.\n",
        "\n"
      ],
      "metadata": {
        "id": "gDz9PtvdvHjG"
      }
    },
    {
      "cell_type": "code",
      "source": [
        "#Countplot of ASD positive born with Jaundice based on gender \n",
        "sns.countplot(x = 'jaundice', hue = 'gender', data = data)"
      ],
      "metadata": {
        "colab": {
          "base_uri": "https://localhost:8080/",
          "height": 296
        },
        "id": "Ly3QlsJf6sEs",
        "outputId": "7e5b2966-c15b-4f62-fd64-9e5a6ce0a791"
      },
      "execution_count": 73,
      "outputs": [
        {
          "output_type": "execute_result",
          "data": {
            "text/plain": [
              "<matplotlib.axes._subplots.AxesSubplot at 0x7f382a11cc50>"
            ]
          },
          "metadata": {},
          "execution_count": 73
        },
        {
          "output_type": "display_data",
          "data": {
            "text/plain": [
              "<Figure size 432x288 with 1 Axes>"
            ],
            "image/png": "[encoded data removed]"
          },
          "metadata": {
            "needs_background": "light"
          }
        }
      ]
    },
    {
      "cell_type": "code",
      "source": [
        "#Age distribution of ASD positive\n",
        "data1 = data[data['Class'] == 'YES']\n",
        "plt.figure(figsize = (10,5))\n",
        "sns.distplot(data1['age'], kde = False, color = 'darkred')\n",
        "plt.xlim(0,70)\n",
        "plt.xlabel('Age in years')\n",
        "plt.title('Age distribution of ASD positive')"
      ],
      "metadata": {
        "id": "gbbc_Gf5_0WL",
        "colab": {
          "base_uri": "https://localhost:8080/",
          "height": 367
        },
        "outputId": "5ae7320b-3575-42bf-ed05-62fc77906b28"
      },
      "execution_count": 74,
      "outputs": [
        {
          "output_type": "execute_result",
          "data": {
            "text/plain": [
              "Text(0.5, 1.0, 'Age distribution of ASD positive')"
            ]
          },
          "metadata": {},
          "execution_count": 74
        },
        {
          "output_type": "display_data",
          "data": {
            "text/plain": [
              "<Figure size 720x360 with 1 Axes>"
            ],
            "image/png": "[encoded data removed]"
          },
          "metadata": {
            "needs_background": "light"
          }
        }
      ]
    },
    {
      "cell_type": "code",
      "source": [
        "#Visualize the distribution of autism in family within different ethnicity\n",
        "plt.figure(figsize = (10,5))\n",
        "sns.countplot(x = 'autism', data = data1, hue = 'ethnicity', palette = 'rainbow')\n",
        "plt.title('Positive ASD relatives with Autism distribution for different ethnicities')\n",
        "plt.xlabel('Relatives with ASD')"
      ],
      "metadata": {
        "id": "wKjaPp3P8tsM",
        "colab": {
          "base_uri": "https://localhost:8080/",
          "height": 367
        },
        "outputId": "ae7cc23e-ff80-4ad0-a7b5-c0fc897680a0"
      },
      "execution_count": 75,
      "outputs": [
        {
          "output_type": "execute_result",
          "data": {
            "text/plain": [
              "Text(0.5, 0, 'Relatives with ASD')"
            ]
          },
          "metadata": {},
          "execution_count": 75
        },
        {
          "output_type": "display_data",
          "data": {
            "text/plain": [
              "<Figure size 720x360 with 1 Axes>"
            ],
            "image/png": "[encoded data removed]"
          },
          "metadata": {
            "needs_background": "light"
          }
        }
      ]
    },
    {
      "cell_type": "markdown",
      "source": [
        "## **Data Preprocessing**"
      ],
      "metadata": {
        "id": "7b9NUUeWcpUb"
      }
    },
    {
      "cell_type": "code",
      "source": [
        "#Importing Library\n",
        "from sklearn.model_selection import train_test_split"
      ],
      "metadata": {
        "id": "ss7HEjP7BZqC"
      },
      "execution_count": 76,
      "outputs": []
    },
    {
      "cell_type": "code",
      "source": [
        "data.dropna(inplace=True)\n",
        "data.isnull().sum()"
      ],
      "metadata": {
        "id": "GfsVWzaoDV8E",
        "colab": {
          "base_uri": "https://localhost:8080/"
        },
        "outputId": "628b0252-94c2-4f00-d82a-c1dc69df41ff"
      },
      "execution_count": 77,
      "outputs": [
        {
          "output_type": "execute_result",
          "data": {
            "text/plain": [
              "age               0\n",
              "gender            0\n",
              "ethnicity         0\n",
              "jaundice          0\n",
              "autism            0\n",
              "country_of_res    0\n",
              "A1_Score          0\n",
              "A2_Score          0\n",
              "A3_Score          0\n",
              "A4_Score          0\n",
              "A5_Score          0\n",
              "A6_Score          0\n",
              "A7_Score          0\n",
              "A8_Score          0\n",
              "A9_Score          0\n",
              "A10_Score         0\n",
              "Class             0\n",
              "dtype: int64"
            ]
          },
          "metadata": {},
          "execution_count": 77
        }
      ]
    },
    {
      "cell_type": "code",
      "source": [
        "data = pd.get_dummies(data, columns = ['ethnicity', 'autism', 'Class', 'gender', 'jaundice', 'country_of_res'])\n",
        "data"
      ],
      "metadata": {
        "id": "SBDEPi0jphF7",
        "colab": {
          "base_uri": "https://localhost:8080/",
          "height": 488
        },
        "outputId": "2510ddd6-2d7a-46fb-82cf-693b003b81f1"
      },
      "execution_count": 78,
      "outputs": [
        {
          "output_type": "execute_result",
          "data": {
            "text/plain": [
              "       age  A1_Score  A2_Score  A3_Score  A4_Score  A5_Score  A6_Score  \\\n",
              "0      6.0         1         1         0         0         1         1   \n",
              "1      6.0         1         1         0         0         1         1   \n",
              "4      5.0         1         1         1         1         1         1   \n",
              "6      5.0         1         0         1         1         1         1   \n",
              "7      5.0         1         1         1         1         1         1   \n",
              "...    ...       ...       ...       ...       ...       ...       ...   \n",
              "1094  27.0         1         1         1         1         1         1   \n",
              "1095  25.0         0         1         0         1         1         0   \n",
              "1096  34.0         1         0         0         0         0         0   \n",
              "1098  35.0         1         0         0         1         1         0   \n",
              "1099  26.0         1         0         1         1         1         0   \n",
              "\n",
              "      A7_Score  A8_Score  A9_Score  ...  country_of_res_Romania  \\\n",
              "0            0         1         0  ...                       0   \n",
              "1            0         1         0  ...                       0   \n",
              "4            1         1         1  ...                       0   \n",
              "6            0         1         0  ...                       0   \n",
              "7            1         1         0  ...                       0   \n",
              "...        ...       ...       ...  ...                     ...   \n",
              "1094         1         1         1  ...                       0   \n",
              "1095         1         1         1  ...                       0   \n",
              "1096         0         1         0  ...                       0   \n",
              "1098         1         0         1  ...                       0   \n",
              "1099         1         1         1  ...                       0   \n",
              "\n",
              "      country_of_res_Russia  country_of_res_Serbia  country_of_res_Spain  \\\n",
              "0                         0                      0                     0   \n",
              "1                         0                      0                     0   \n",
              "4                         0                      0                     0   \n",
              "6                         0                      0                     0   \n",
              "7                         0                      0                     0   \n",
              "...                     ...                    ...                   ...   \n",
              "1094                      0                      0                     0   \n",
              "1095                      1                      0                     0   \n",
              "1096                      0                      0                     0   \n",
              "1098                      0                      0                     0   \n",
              "1099                      0                      0                     0   \n",
              "\n",
              "      country_of_res_Sweden  country_of_res_Syria  country_of_res_Tonga  \\\n",
              "0                         0                     0                     0   \n",
              "1                         0                     0                     0   \n",
              "4                         0                     0                     0   \n",
              "6                         0                     0                     0   \n",
              "7                         0                     0                     0   \n",
              "...                     ...                   ...                   ...   \n",
              "1094                      0                     0                     0   \n",
              "1095                      0                     0                     0   \n",
              "1096                      0                     0                     0   \n",
              "1098                      0                     0                     0   \n",
              "1099                      0                     0                     0   \n",
              "\n",
              "      country_of_res_Turkey  country_of_res_Ukraine  country_of_res_Uruguay  \n",
              "0                         0                       0                       0  \n",
              "1                         0                       0                       0  \n",
              "4                         0                       0                       0  \n",
              "6                         0                       0                       0  \n",
              "7                         0                       0                       0  \n",
              "...                     ...                     ...                     ...  \n",
              "1094                      0                       0                       0  \n",
              "1095                      0                       0                       0  \n",
              "1096                      0                       0                       0  \n",
              "1098                      0                       0                       0  \n",
              "1099                      0                       0                       0  \n",
              "\n",
              "[955 rows x 114 columns]"
            ],
            "text/html": [
              "\n",
              "  <div id=\"df-0edb072f-358e-4af8-ae9b-a6ead7352ccb\">\n",
              "    <div class=\"colab-df-container\">\n",
              "      <div>\n",
              "<style scoped>\n",
              "    .dataframe tbody tr th:only-of-type {\n",
              "        vertical-align: middle;\n",
              "    }\n",
              "\n",
              "    .dataframe tbody tr th {\n",
              "        vertical-align: top;\n",
              "    }\n",
              "\n",
              "    .dataframe thead th {\n",
              "        text-align: right;\n",
              "    }\n",
              "</style>\n",
              "<table border=\"1\" class=\"dataframe\">\n",
              "  <thead>\n",
              "    <tr style=\"text-align: right;\">\n",
              "      <th></th>\n",
              "      <th>age</th>\n",
              "      <th>A1_Score</th>\n",
              "      <th>A2_Score</th>\n",
              "      <th>A3_Score</th>\n",
              "      <th>A4_Score</th>\n",
              "      <th>A5_Score</th>\n",
              "      <th>A6_Score</th>\n",
              "      <th>A7_Score</th>\n",
              "      <th>A8_Score</th>\n",
              "      <th>A9_Score</th>\n",
              "      <th>...</th>\n",
              "      <th>country_of_res_Romania</th>\n",
              "      <th>country_of_res_Russia</th>\n",
              "      <th>country_of_res_Serbia</th>\n",
              "      <th>country_of_res_Spain</th>\n",
              "      <th>country_of_res_Sweden</th>\n",
              "      <th>country_of_res_Syria</th>\n",
              "      <th>country_of_res_Tonga</th>\n",
              "      <th>country_of_res_Turkey</th>\n",
              "      <th>country_of_res_Ukraine</th>\n",
              "      <th>country_of_res_Uruguay</th>\n",
              "    </tr>\n",
              "  </thead>\n",
              "  <tbody>\n",
              "    <tr>\n",
              "      <th>0</th>\n",
              "      <td>6.0</td>\n",
              "      <td>1</td>\n",
              "      <td>1</td>\n",
              "      <td>0</td>\n",
              "      <td>0</td>\n",
              "      <td>1</td>\n",
              "      <td>1</td>\n",
              "      <td>0</td>\n",
              "      <td>1</td>\n",
              "      <td>0</td>\n",
              "      <td>...</td>\n",
              "      <td>0</td>\n",
              "      <td>0</td>\n",
              "      <td>0</td>\n",
              "      <td>0</td>\n",
              "      <td>0</td>\n",
              "      <td>0</td>\n",
              "      <td>0</td>\n",
              "      <td>0</td>\n",
              "      <td>0</td>\n",
              "      <td>0</td>\n",
              "    </tr>\n",
              "    <tr>\n",
              "      <th>1</th>\n",
              "      <td>6.0</td>\n",
              "      <td>1</td>\n",
              "      <td>1</td>\n",
              "      <td>0</td>\n",
              "      <td>0</td>\n",
              "      <td>1</td>\n",
              "      <td>1</td>\n",
              "      <td>0</td>\n",
              "      <td>1</td>\n",
              "      <td>0</td>\n",
              "      <td>...</td>\n",
              "      <td>0</td>\n",
              "      <td>0</td>\n",
              "      <td>0</td>\n",
              "      <td>0</td>\n",
              "      <td>0</td>\n",
              "      <td>0</td>\n",
              "      <td>0</td>\n",
              "      <td>0</td>\n",
              "      <td>0</td>\n",
              "      <td>0</td>\n",
              "    </tr>\n",
              "    <tr>\n",
              "      <th>4</th>\n",
              "      <td>5.0</td>\n",
              "      <td>1</td>\n",
              "      <td>1</td>\n",
              "      <td>1</td>\n",
              "      <td>1</td>\n",
              "      <td>1</td>\n",
              "      <td>1</td>\n",
              "      <td>1</td>\n",
              "      <td>1</td>\n",
              "      <td>1</td>\n",
              "      <td>...</td>\n",
              "      <td>0</td>\n",
              "      <td>0</td>\n",
              "      <td>0</td>\n",
              "      <td>0</td>\n",
              "      <td>0</td>\n",
              "      <td>0</td>\n",
              "      <td>0</td>\n",
              "      <td>0</td>\n",
              "      <td>0</td>\n",
              "      <td>0</td>\n",
              "    </tr>\n",
              "    <tr>\n",
              "      <th>6</th>\n",
              "      <td>5.0</td>\n",
              "      <td>1</td>\n",
              "      <td>0</td>\n",
              "      <td>1</td>\n",
              "      <td>1</td>\n",
              "      <td>1</td>\n",
              "      <td>1</td>\n",
              "      <td>0</td>\n",
              "      <td>1</td>\n",
              "      <td>0</td>\n",
              "      <td>...</td>\n",
              "      <td>0</td>\n",
              "      <td>0</td>\n",
              "      <td>0</td>\n",
              "      <td>0</td>\n",
              "      <td>0</td>\n",
              "      <td>0</td>\n",
              "      <td>0</td>\n",
              "      <td>0</td>\n",
              "      <td>0</td>\n",
              "      <td>0</td>\n",
              "    </tr>\n",
              "    <tr>\n",
              "      <th>7</th>\n",
              "      <td>5.0</td>\n",
              "      <td>1</td>\n",
              "      <td>1</td>\n",
              "      <td>1</td>\n",
              "      <td>1</td>\n",
              "      <td>1</td>\n",
              "      <td>1</td>\n",
              "      <td>1</td>\n",
              "      <td>1</td>\n",
              "      <td>0</td>\n",
              "      <td>...</td>\n",
              "      <td>0</td>\n",
              "      <td>0</td>\n",
              "      <td>0</td>\n",
              "      <td>0</td>\n",
              "      <td>0</td>\n",
              "      <td>0</td>\n",
              "      <td>0</td>\n",
              "      <td>0</td>\n",
              "      <td>0</td>\n",
              "      <td>0</td>\n",
              "    </tr>\n",
              "    <tr>\n",
              "      <th>...</th>\n",
              "      <td>...</td>\n",
              "      <td>...</td>\n",
              "      <td>...</td>\n",
              "      <td>...</td>\n",
              "      <td>...</td>\n",
              "      <td>...</td>\n",
              "      <td>...</td>\n",
              "      <td>...</td>\n",
              "      <td>...</td>\n",
              "      <td>...</td>\n",
              "      <td>...</td>\n",
              "      <td>...</td>\n",
              "      <td>...</td>\n",
              "      <td>...</td>\n",
              "      <td>...</td>\n",
              "      <td>...</td>\n",
              "      <td>...</td>\n",
              "      <td>...</td>\n",
              "      <td>...</td>\n",
              "      <td>...</td>\n",
              "      <td>...</td>\n",
              "    </tr>\n",
              "    <tr>\n",
              "      <th>1094</th>\n",
              "      <td>27.0</td>\n",
              "      <td>1</td>\n",
              "      <td>1</td>\n",
              "      <td>1</td>\n",
              "      <td>1</td>\n",
              "      <td>1</td>\n",
              "      <td>1</td>\n",
              "      <td>1</td>\n",
              "      <td>1</td>\n",
              "      <td>1</td>\n",
              "      <td>...</td>\n",
              "      <td>0</td>\n",
              "      <td>0</td>\n",
              "      <td>0</td>\n",
              "      <td>0</td>\n",
              "      <td>0</td>\n",
              "      <td>0</td>\n",
              "      <td>0</td>\n",
              "      <td>0</td>\n",
              "      <td>0</td>\n",
              "      <td>0</td>\n",
              "    </tr>\n",
              "    <tr>\n",
              "      <th>1095</th>\n",
              "      <td>25.0</td>\n",
              "      <td>0</td>\n",
              "      <td>1</td>\n",
              "      <td>0</td>\n",
              "      <td>1</td>\n",
              "      <td>1</td>\n",
              "      <td>0</td>\n",
              "      <td>1</td>\n",
              "      <td>1</td>\n",
              "      <td>1</td>\n",
              "      <td>...</td>\n",
              "      <td>0</td>\n",
              "      <td>1</td>\n",
              "      <td>0</td>\n",
              "      <td>0</td>\n",
              "      <td>0</td>\n",
              "      <td>0</td>\n",
              "      <td>0</td>\n",
              "      <td>0</td>\n",
              "      <td>0</td>\n",
              "      <td>0</td>\n",
              "    </tr>\n",
              "    <tr>\n",
              "      <th>1096</th>\n",
              "      <td>34.0</td>\n",
              "      <td>1</td>\n",
              "      <td>0</td>\n",
              "      <td>0</td>\n",
              "      <td>0</td>\n",
              "      <td>0</td>\n",
              "      <td>0</td>\n",
              "      <td>0</td>\n",
              "      <td>1</td>\n",
              "      <td>0</td>\n",
              "      <td>...</td>\n",
              "      <td>0</td>\n",
              "      <td>0</td>\n",
              "      <td>0</td>\n",
              "      <td>0</td>\n",
              "      <td>0</td>\n",
              "      <td>0</td>\n",
              "      <td>0</td>\n",
              "      <td>0</td>\n",
              "      <td>0</td>\n",
              "      <td>0</td>\n",
              "    </tr>\n",
              "    <tr>\n",
              "      <th>1098</th>\n",
              "      <td>35.0</td>\n",
              "      <td>1</td>\n",
              "      <td>0</td>\n",
              "      <td>0</td>\n",
              "      <td>1</td>\n",
              "      <td>1</td>\n",
              "      <td>0</td>\n",
              "      <td>1</td>\n",
              "      <td>0</td>\n",
              "      <td>1</td>\n",
              "      <td>...</td>\n",
              "      <td>0</td>\n",
              "      <td>0</td>\n",
              "      <td>0</td>\n",
              "      <td>0</td>\n",
              "      <td>0</td>\n",
              "      <td>0</td>\n",
              "      <td>0</td>\n",
              "      <td>0</td>\n",
              "      <td>0</td>\n",
              "      <td>0</td>\n",
              "    </tr>\n",
              "    <tr>\n",
              "      <th>1099</th>\n",
              "      <td>26.0</td>\n",
              "      <td>1</td>\n",
              "      <td>0</td>\n",
              "      <td>1</td>\n",
              "      <td>1</td>\n",
              "      <td>1</td>\n",
              "      <td>0</td>\n",
              "      <td>1</td>\n",
              "      <td>1</td>\n",
              "      <td>1</td>\n",
              "      <td>...</td>\n",
              "      <td>0</td>\n",
              "      <td>0</td>\n",
              "      <td>0</td>\n",
              "      <td>0</td>\n",
              "      <td>0</td>\n",
              "      <td>0</td>\n",
              "      <td>0</td>\n",
              "      <td>0</td>\n",
              "      <td>0</td>\n",
              "      <td>0</td>\n",
              "    </tr>\n",
              "  </tbody>\n",
              "</table>\n",
              "<p>955 rows × 114 columns</p>\n",
              "</div>\n",
              "      <button class=\"colab-df-convert\" onclick=\"convertToInteractive('df-0edb072f-358e-4af8-ae9b-a6ead7352ccb')\"\n",
              "              title=\"Convert this dataframe to an interactive table.\"\n",
              "              style=\"display:none;\">\n",
              "        \n",
              "  <svg xmlns=\"http://www.w3.org/2000/svg\" height=\"24px\"viewBox=\"0 0 24 24\"\n",
              "       width=\"24px\">\n",
              "    <path d=\"M0 0h24v24H0V0z\" fill=\"none\"/>\n",
              "    <path d=\"M18.56 5.44l.94 2.06.94-2.06 2.06-.94-2.06-.94-.94-2.06-.94 2.06-2.06.94zm-11 1L8.5 8.5l.94-2.06 2.06-.94-2.06-.94L8.5 2.5l-.94 2.06-2.06.94zm10 10l.94 2.06.94-2.06 2.06-.94-2.06-.94-.94-2.06-.94 2.06-2.06.94z\"/><path d=\"M17.41 7.96l-1.37-1.37c-.4-.4-.92-.59-1.43-.59-.52 0-1.04.2-1.43.59L10.3 9.45l-7.72 7.72c-.78.78-.78 2.05 0 2.83L4 21.41c.39.39.9.59 1.41.59.51 0 1.02-.2 1.41-.59l7.78-7.78 2.81-2.81c.8-.78.8-2.07 0-2.86zM5.41 20L4 18.59l7.72-7.72 1.47 1.35L5.41 20z\"/>\n",
              "  </svg>\n",
              "      </button>\n",
              "      \n",
              "  <style>\n",
              "    .colab-df-container {\n",
              "      display:flex;\n",
              "      flex-wrap:wrap;\n",
              "      gap: 12px;\n",
              "    }\n",
              "\n",
              "    .colab-df-convert {\n",
              "      background-color: #E8F0FE;\n",
              "      border: none;\n",
              "      border-radius: 50%;\n",
              "      cursor: pointer;\n",
              "      display: none;\n",
              "      fill: #1967D2;\n",
              "      height: 32px;\n",
              "      padding: 0 0 0 0;\n",
              "      width: 32px;\n",
              "    }\n",
              "\n",
              "    .colab-df-convert:hover {\n",
              "      background-color: #E2EBFA;\n",
              "      box-shadow: 0px 1px 2px rgba(60, 64, 67, 0.3), 0px 1px 3px 1px rgba(60, 64, 67, 0.15);\n",
              "      fill: #174EA6;\n",
              "    }\n",
              "\n",
              "    [theme=dark] .colab-df-convert {\n",
              "      background-color: #3B4455;\n",
              "      fill: #D2E3FC;\n",
              "    }\n",
              "\n",
              "    [theme=dark] .colab-df-convert:hover {\n",
              "      background-color: #434B5C;\n",
              "      box-shadow: 0px 1px 3px 1px rgba(0, 0, 0, 0.15);\n",
              "      filter: drop-shadow(0px 1px 2px rgba(0, 0, 0, 0.3));\n",
              "      fill: #FFFFFF;\n",
              "    }\n",
              "  </style>\n",
              "\n",
              "      <script>\n",
              "        const buttonEl =\n",
              "          document.querySelector('#df-0edb072f-358e-4af8-ae9b-a6ead7352ccb button.colab-df-convert');\n",
              "        buttonEl.style.display =\n",
              "          google.colab.kernel.accessAllowed ? 'block' : 'none';\n",
              "\n",
              "        async function convertToInteractive(key) {\n",
              "          const element = document.querySelector('#df-0edb072f-358e-4af8-ae9b-a6ead7352ccb');\n",
              "          const dataTable =\n",
              "            await google.colab.kernel.invokeFunction('convertToInteractive',\n",
              "                                                     [key], {});\n",
              "          if (!dataTable) return;\n",
              "\n",
              "          const docLinkHtml = 'Like what you see? Visit the ' +\n",
              "            '<a target=\"_blank\" href=https://colab.research.google.com/notebooks/data_table.ipynb>data table notebook</a>'\n",
              "            + ' to learn more about interactive tables.';\n",
              "          element.innerHTML = '';\n",
              "          dataTable['output_type'] = 'display_data';\n",
              "          await google.colab.output.renderOutput(dataTable, element);\n",
              "          const docLink = document.createElement('div');\n",
              "          docLink.innerHTML = docLinkHtml;\n",
              "          element.appendChild(docLink);\n",
              "        }\n",
              "      </script>\n",
              "    </div>\n",
              "  </div>\n",
              "  "
            ]
          },
          "metadata": {},
          "execution_count": 78
        }
      ]
    },
    {
      "cell_type": "code",
      "source": [
        "#Create X and y dataset\n",
        "X = data.iloc[:,:-1].values\n",
        "y = data.iloc[:,16].values"
      ],
      "metadata": {
        "id": "ezeFZKH6nzQR"
      },
      "execution_count": 79,
      "outputs": []
    },
    {
      "cell_type": "code",
      "source": [
        "#Displaying X values\n",
        "X"
      ],
      "metadata": {
        "id": "PL5ksy3Gv3V8",
        "colab": {
          "base_uri": "https://localhost:8080/"
        },
        "outputId": "2926b5a8-c150-4096-f3a3-1f98bb52873c"
      },
      "execution_count": 80,
      "outputs": [
        {
          "output_type": "execute_result",
          "data": {
            "text/plain": [
              "array([[ 6.,  1.,  1., ...,  0.,  0.,  0.],\n",
              "       [ 6.,  1.,  1., ...,  0.,  0.,  0.],\n",
              "       [ 5.,  1.,  1., ...,  0.,  0.,  0.],\n",
              "       ...,\n",
              "       [34.,  1.,  0., ...,  0.,  0.,  0.],\n",
              "       [35.,  1.,  0., ...,  0.,  0.,  0.],\n",
              "       [26.,  1.,  0., ...,  0.,  0.,  0.]])"
            ]
          },
          "metadata": {},
          "execution_count": 80
        }
      ]
    },
    {
      "cell_type": "code",
      "source": [
        "#Displaying y values\n",
        "y"
      ],
      "metadata": {
        "id": "OopeMnngwQlv",
        "colab": {
          "base_uri": "https://localhost:8080/"
        },
        "outputId": "c8a0ba2f-3f2c-44d4-bc57-67fb89e2c7ab"
      },
      "execution_count": 81,
      "outputs": [
        {
          "output_type": "execute_result",
          "data": {
            "text/plain": [
              "array([0, 0, 0, 0, 0, 0, 0, 0, 0, 0, 0, 0, 0, 0, 0, 0, 0, 0, 0, 0, 0, 0,\n",
              "       0, 0, 0, 0, 0, 0, 0, 0, 0, 0, 0, 0, 0, 0, 0, 0, 0, 0, 0, 0, 0, 0,\n",
              "       0, 0, 0, 0, 0, 0, 0, 0, 0, 0, 0, 0, 0, 0, 1, 0, 0, 0, 0, 0, 0, 0,\n",
              "       0, 0, 1, 0, 0, 0, 0, 0, 1, 0, 0, 0, 0, 0, 0, 0, 0, 0, 0, 0, 0, 0,\n",
              "       0, 0, 0, 0, 0, 0, 0, 0, 0, 0, 0, 0, 0, 0, 0, 0, 0, 0, 0, 0, 0, 0,\n",
              "       0, 0, 0, 0, 0, 0, 0, 0, 0, 0, 0, 0, 0, 0, 0, 0, 0, 0, 0, 0, 0, 0,\n",
              "       0, 0, 0, 0, 0, 0, 0, 0, 0, 0, 0, 0, 0, 0, 0, 0, 0, 0, 0, 0, 0, 0,\n",
              "       0, 0, 0, 0, 0, 0, 0, 0, 0, 0, 0, 0, 0, 0, 0, 0, 0, 0, 0, 0, 0, 0,\n",
              "       1, 1, 0, 0, 0, 0, 0, 0, 0, 0, 0, 0, 0, 0, 0, 0, 0, 0, 0, 0, 0, 0,\n",
              "       0, 1, 0, 0, 0, 0, 0, 0, 0, 0, 0, 0, 0, 0, 0, 0, 0, 0, 0, 0, 0, 0,\n",
              "       0, 0, 0, 0, 0, 0, 0, 0, 0, 0, 0, 0, 0, 0, 0, 0, 0, 0, 0, 0, 0, 0,\n",
              "       1, 0, 0, 1, 0, 0, 0, 0, 0, 0, 0, 0, 0, 0, 0, 0, 0, 0, 0, 0, 0, 0,\n",
              "       0, 0, 0, 0, 0, 0, 0, 0, 0, 0, 0, 0, 0, 0, 1, 0, 0, 0, 0, 0, 0, 0,\n",
              "       0, 0, 0, 0, 0, 0, 0, 0, 0, 0, 0, 0, 1, 0, 0, 1, 1, 0, 0, 0, 0, 0,\n",
              "       0, 0, 0, 0, 0, 0, 0, 0, 0, 0, 0, 0, 0, 0, 0, 0, 0, 0, 0, 0, 0, 0,\n",
              "       0, 0, 0, 0, 0, 0, 0, 0, 0, 1, 0, 0, 0, 0, 0, 0, 0, 1, 1, 0, 0, 0,\n",
              "       0, 0, 0, 0, 0, 0, 0, 0, 0, 0, 0, 0, 0, 0, 0, 0, 0, 0, 0, 0, 0, 0,\n",
              "       0, 0, 0, 0, 1, 0, 0, 0, 0, 0, 0, 0, 0, 0, 1, 0, 0, 1, 0, 0, 0, 0,\n",
              "       0, 0, 0, 0, 0, 0, 0, 0, 0, 0, 0, 0, 0, 0, 0, 0, 0, 0, 0, 0, 0, 0,\n",
              "       0, 0, 0, 0, 0, 0, 0, 0, 1, 0, 0, 0, 0, 0, 0, 0, 0, 0, 0, 0, 0, 0,\n",
              "       0, 0, 0, 0, 0, 0, 0, 0, 0, 0, 0, 0, 0, 0, 0, 0, 0, 0, 0, 0, 0, 0,\n",
              "       0, 0, 0, 0, 0, 0, 0, 0, 0, 0, 0, 0, 0, 0, 0, 0, 0, 0, 0, 0, 0, 0,\n",
              "       0, 0, 0, 0, 0, 0, 0, 0, 0, 0, 0, 0, 0, 0, 0, 0, 0, 1, 1, 0, 0, 0,\n",
              "       0, 0, 0, 0, 0, 0, 0, 0, 0, 0, 0, 0, 0, 0, 0, 0, 0, 0, 1, 0, 0, 0,\n",
              "       0, 0, 0, 0, 0, 0, 0, 0, 0, 0, 0, 0, 0, 0, 0, 0, 0, 0, 0, 0, 0, 0,\n",
              "       0, 0, 0, 0, 0, 0, 0, 0, 0, 1, 0, 0, 0, 0, 0, 0, 0, 0, 0, 0, 0, 0,\n",
              "       0, 0, 0, 0, 0, 0, 0, 0, 0, 0, 0, 0, 0, 0, 0, 0, 0, 0, 0, 0, 0, 0,\n",
              "       0, 0, 0, 0, 0, 0, 0, 0, 0, 0, 0, 0, 0, 0, 0, 0, 0, 0, 0, 0, 0, 0,\n",
              "       0, 0, 0, 0, 0, 0, 0, 0, 0, 0, 0, 0, 0, 0, 0, 0, 0, 0, 0, 0, 0, 0,\n",
              "       0, 0, 0, 0, 0, 0, 0, 0, 0, 0, 0, 0, 0, 0, 0, 0, 0, 0, 0, 0, 0, 0,\n",
              "       0, 0, 0, 0, 0, 0, 0, 0, 0, 0, 0, 0, 0, 0, 0, 0, 0, 0, 0, 0, 0, 0,\n",
              "       0, 0, 0, 0, 0, 0, 0, 0, 0, 0, 0, 0, 0, 0, 0, 0, 0, 0, 0, 0, 0, 0,\n",
              "       0, 0, 0, 0, 0, 0, 0, 0, 0, 0, 0, 0, 0, 0, 0, 0, 0, 0, 0, 0, 0, 0,\n",
              "       0, 0, 0, 0, 0, 0, 0, 1, 0, 0, 0, 0, 0, 0, 0, 0, 0, 0, 0, 1, 0, 0,\n",
              "       0, 0, 0, 0, 0, 0, 0, 0, 0, 0, 0, 0, 0, 0, 0, 0, 0, 1, 1, 0, 0, 0,\n",
              "       0, 0, 0, 0, 1, 0, 0, 0, 0, 0, 0, 0, 0, 0, 0, 0, 0, 0, 0, 0, 0, 0,\n",
              "       0, 0, 0, 0, 0, 0, 0, 0, 0, 1, 0, 0, 0, 0, 0, 0, 0, 0, 0, 0, 0, 0,\n",
              "       0, 0, 0, 0, 0, 0, 0, 1, 0, 0, 0, 0, 0, 0, 0, 0, 0, 0, 0, 0, 0, 0,\n",
              "       0, 0, 0, 0, 0, 0, 0, 0, 0, 0, 0, 0, 0, 0, 0, 0, 0, 0, 0, 0, 0, 0,\n",
              "       0, 0, 0, 0, 0, 0, 0, 0, 0, 0, 0, 0, 0, 0, 0, 0, 0, 0, 0, 0, 0, 0,\n",
              "       0, 0, 0, 0, 0, 0, 0, 0, 0, 0, 0, 0, 0, 0, 0, 0, 0, 0, 0, 0, 1, 0,\n",
              "       0, 0, 0, 0, 0, 0, 0, 0, 0, 0, 0, 0, 0, 0, 0, 0, 0, 0, 0, 0, 0, 0,\n",
              "       0, 1, 0, 0, 0, 0, 0, 0, 0, 0, 0, 0, 0, 0, 0, 0, 0, 0, 0, 0, 0, 0,\n",
              "       0, 1, 0, 0, 0, 0, 0, 0, 0], dtype=uint8)"
            ]
          },
          "metadata": {},
          "execution_count": 81
        }
      ]
    },
    {
      "cell_type": "code",
      "source": [
        "X_train,X_test,y_train,y_test = train_test_split(X,y,test_size=0.3,random_state=42)"
      ],
      "metadata": {
        "id": "y24QRTFL9_eW"
      },
      "execution_count": 82,
      "outputs": []
    },
    {
      "cell_type": "markdown",
      "source": [
        "##**Model Implementation**"
      ],
      "metadata": {
        "id": "ckG776U6-7B0"
      }
    },
    {
      "cell_type": "code",
      "source": [
        "#Importing Libraries\n",
        "import time\n",
        "from sklearn.linear_model import LogisticRegression\n",
        "from sklearn import metrics\n",
        "from sklearn.neighbors import KNeighborsClassifier\n",
        "from sklearn.tree import DecisionTreeClassifier\n",
        "from sklearn.ensemble import RandomForestClassifier\n",
        "from sklearn.svm import SVC\n",
        "from sklearn.linear_model import Perceptron\n",
        "from sklearn.linear_model import SGDClassifier\n",
        "from sklearn.naive_bayes import GaussianNB\n",
        "from sklearn.calibration import CalibratedClassifierCV\n",
        "from sklearn.metrics import roc_auc_score, roc_curve, confusion_matrix, accuracy_score\n",
        "from mlxtend.plotting import plot_confusion_matrix"
      ],
      "metadata": {
        "id": "dvXDpTq5-aSh"
      },
      "execution_count": 83,
      "outputs": []
    },
    {
      "cell_type": "markdown",
      "source": [
        "#### **K-Nearest-Neighbors (kNN)**"
      ],
      "metadata": {
        "id": "XdxdnXvBECFR"
      }
    },
    {
      "cell_type": "code",
      "source": [
        "#Making K-Nearest-Neighbors (KNN) Model\n",
        "knn = KNeighborsClassifier(n_neighbors=1)\n",
        "start = time.time()\n",
        "knn.fit(X_train, y_train)\n",
        "stop = time.time()\n",
        "knn_time = f\"{stop - start}\""
      ],
      "metadata": {
        "id": "LxI_6CqEvHa5"
      },
      "execution_count": 84,
      "outputs": []
    },
    {
      "cell_type": "code",
      "source": [
        "#Making predictions on test data\n",
        "y_pred_knn = knn.predict(X_test)\n",
        "\n",
        "#Displaying the predictions\n",
        "y_pred_knn"
      ],
      "metadata": {
        "id": "0nxy8njZFgVm",
        "colab": {
          "base_uri": "https://localhost:8080/"
        },
        "outputId": "451c9d63-210b-4a09-9bba-32919d4a2246"
      },
      "execution_count": 85,
      "outputs": [
        {
          "output_type": "execute_result",
          "data": {
            "text/plain": [
              "array([0, 0, 0, 0, 0, 0, 0, 0, 0, 0, 0, 0, 0, 0, 0, 0, 0, 0, 0, 0, 0, 0,\n",
              "       0, 0, 0, 0, 0, 0, 0, 0, 0, 0, 0, 0, 0, 0, 0, 0, 0, 0, 0, 0, 0, 0,\n",
              "       0, 0, 0, 0, 0, 0, 0, 0, 0, 0, 0, 0, 0, 0, 0, 0, 0, 0, 0, 0, 0, 0,\n",
              "       0, 0, 0, 0, 0, 0, 0, 0, 0, 0, 0, 0, 0, 0, 0, 0, 0, 0, 0, 0, 0, 0,\n",
              "       0, 0, 0, 0, 0, 0, 0, 0, 0, 0, 0, 0, 0, 0, 0, 0, 0, 0, 0, 1, 0, 0,\n",
              "       0, 0, 0, 0, 0, 0, 0, 0, 0, 0, 0, 0, 0, 0, 0, 0, 0, 0, 0, 0, 0, 0,\n",
              "       0, 0, 0, 0, 0, 0, 0, 0, 0, 0, 0, 0, 0, 0, 0, 0, 0, 0, 0, 0, 0, 0,\n",
              "       0, 0, 0, 0, 0, 0, 0, 0, 0, 0, 0, 0, 0, 0, 0, 0, 0, 0, 0, 0, 0, 0,\n",
              "       0, 0, 0, 0, 0, 0, 0, 0, 0, 0, 0, 0, 0, 0, 0, 0, 0, 0, 0, 0, 0, 0,\n",
              "       0, 0, 0, 0, 0, 0, 0, 0, 0, 0, 0, 0, 0, 0, 0, 0, 0, 0, 0, 0, 0, 0,\n",
              "       0, 1, 0, 0, 0, 0, 0, 0, 0, 0, 0, 0, 0, 0, 0, 0, 0, 0, 0, 0, 0, 0,\n",
              "       0, 0, 0, 0, 0, 0, 0, 0, 0, 0, 0, 0, 0, 0, 0, 0, 0, 0, 0, 0, 0, 0,\n",
              "       0, 0, 0, 0, 0, 0, 0, 0, 0, 0, 0, 0, 0, 0, 0, 0, 0, 0, 0, 0, 0, 0,\n",
              "       0], dtype=uint8)"
            ]
          },
          "metadata": {},
          "execution_count": 85
        }
      ]
    },
    {
      "cell_type": "code",
      "source": [
        "#AUC Score\n",
        "auc_score_knn = roc_auc_score(y_test, knn.predict(X_test))\n",
        "fpr_knn, tpr_knn, thresholds_knn = roc_curve(y_test, knn.predict_proba(X_test)[:,1])\n",
        "print(\"AUC Score:\",auc_score_knn)"
      ],
      "metadata": {
        "id": "AsGZ_KGfMluE",
        "colab": {
          "base_uri": "https://localhost:8080/"
        },
        "outputId": "e07d43cf-0597-420d-9204-7f134ca4b45b"
      },
      "execution_count": 86,
      "outputs": [
        {
          "output_type": "stream",
          "name": "stdout",
          "text": [
            "AUC Score: 0.625\n"
          ]
        }
      ]
    },
    {
      "cell_type": "code",
      "source": [
        "#Confusion Matrix\n",
        "cm_knn = confusion_matrix(y_test, y_pred_knn)\n",
        "\n",
        "#Plotting the confusion matrix\n",
        "ax = sns.heatmap(cm_knn, annot=True, annot_kws={\"fontsize\":18}, cmap='PuBu', fmt='.3g', linewidths=1, linecolor='black')\n",
        "ax.set_title('Confusion Matrix');\n",
        "ax.set_xlabel('Predicted Values')\n",
        "ax.set_ylabel('Actual Values ');\n",
        "\n",
        "## Ticket labels - List must be in alphabetical order\n",
        "ax.xaxis.set_ticklabels(['False','True'])\n",
        "ax.yaxis.set_ticklabels(['False','True'])\n",
        "\n",
        "## Display the visualization of the Confusion Matrix.\n",
        "plt.show()"
      ],
      "metadata": {
        "id": "v4mfJoNFJY4S",
        "colab": {
          "base_uri": "https://localhost:8080/",
          "height": 295
        },
        "outputId": "f3c05125-a2f0-4b84-fe45-bd01c6fa3d70"
      },
      "execution_count": 87,
      "outputs": [
        {
          "output_type": "display_data",
          "data": {
            "text/plain": [
              "<Figure size 432x288 with 2 Axes>"
            ],
            "image/png": "[encoded data removed]"
          },
          "metadata": {
            "needs_background": "light"
          }
        }
      ]
    },
    {
      "cell_type": "code",
      "source": [
        "#Evaluation Strategy\n",
        "TP_knn = cm_knn[1, 1]\n",
        "TN_knn = cm_knn[0, 0]\n",
        "FP_knn = cm_knn[0, 1]\n",
        "FN_knn = cm_knn[1, 0]\n",
        "\n",
        "# 1.  Sensitivity\n",
        "sensitivity_knn = TP_knn / float(TP_knn + FN_knn)\n",
        "print(\"Sensitivity:\",sensitivity_knn)\n",
        "\n",
        "# 2.  Specificity\n",
        "specificity_knn = TN_knn / float(TN_knn + FP_knn)\n",
        "print(\"Specificity:\",specificity_knn)\n",
        "\n",
        "# 3.  Precision\n",
        "precision_knn = TP_knn / float(TP_knn + FP_knn)\n",
        "print(\"Precision:\",precision_knn)\n",
        "\n",
        "# 4.  Accuracy\n",
        "accuracy_knn = (TP_knn + TN_knn) / float(TP_knn + TN_knn + FN_knn + FP_knn)\n",
        "print(\"Accuracy:\",accuracy_knn)"
      ],
      "metadata": {
        "id": "XvxpirO_JvKO",
        "colab": {
          "base_uri": "https://localhost:8080/"
        },
        "outputId": "8d40e376-85a0-46de-ef5f-006562f2ba10"
      },
      "execution_count": 88,
      "outputs": [
        {
          "output_type": "stream",
          "name": "stdout",
          "text": [
            "Sensitivity: 0.25\n",
            "Specificity: 1.0\n",
            "Precision: 1.0\n",
            "Accuracy: 0.9790940766550522\n"
          ]
        }
      ]
    },
    {
      "cell_type": "markdown",
      "source": [
        "#### **DecisionTree Classifier**"
      ],
      "metadata": {
        "id": "RH3phVPkMB2W"
      }
    },
    {
      "cell_type": "code",
      "source": [
        "#Making DecisionTree Classifier Model\n",
        "dtree = DecisionTreeClassifier()\n",
        "start = time.time()\n",
        "dtree.fit(X_train, y_train)\n",
        "stop = time.time()\n",
        "dtree_time = f\"{stop - start}\""
      ],
      "metadata": {
        "id": "Dwm7o4lzxGvu"
      },
      "execution_count": 89,
      "outputs": []
    },
    {
      "cell_type": "code",
      "source": [
        "#Making predictions on test data\n",
        "y_pred_dtree = dtree.predict(X_test)\n",
        "\n",
        "#Displaying the predictions\n",
        "y_pred_dtree"
      ],
      "metadata": {
        "id": "ytA87h3r2ufL",
        "colab": {
          "base_uri": "https://localhost:8080/"
        },
        "outputId": "1d6b80a2-73eb-4c5c-ecba-57b5d9e621e5"
      },
      "execution_count": 90,
      "outputs": [
        {
          "output_type": "execute_result",
          "data": {
            "text/plain": [
              "array([1, 0, 0, 0, 1, 0, 0, 0, 0, 0, 0, 0, 0, 0, 0, 0, 0, 0, 0, 0, 0, 0,\n",
              "       0, 0, 0, 0, 0, 0, 0, 0, 0, 0, 0, 0, 0, 0, 0, 0, 0, 0, 0, 0, 0, 0,\n",
              "       0, 0, 0, 0, 0, 0, 0, 0, 0, 0, 0, 0, 0, 0, 1, 0, 0, 0, 0, 0, 0, 0,\n",
              "       0, 0, 0, 0, 0, 0, 0, 0, 0, 0, 0, 0, 0, 0, 0, 0, 0, 0, 0, 0, 0, 0,\n",
              "       0, 0, 0, 0, 0, 0, 0, 0, 0, 0, 0, 0, 0, 0, 0, 0, 0, 0, 0, 1, 0, 0,\n",
              "       1, 0, 0, 0, 0, 0, 0, 0, 0, 0, 0, 0, 0, 0, 0, 0, 0, 0, 0, 0, 0, 0,\n",
              "       0, 0, 0, 0, 0, 0, 0, 0, 0, 0, 0, 0, 0, 0, 0, 1, 0, 0, 0, 0, 0, 0,\n",
              "       0, 0, 0, 0, 0, 0, 0, 0, 0, 0, 0, 0, 0, 1, 0, 0, 0, 0, 0, 0, 0, 0,\n",
              "       0, 0, 0, 0, 0, 0, 0, 0, 0, 0, 0, 0, 0, 0, 0, 0, 0, 0, 0, 0, 0, 0,\n",
              "       0, 0, 0, 0, 0, 0, 0, 0, 0, 0, 0, 0, 0, 0, 0, 0, 0, 0, 0, 0, 0, 0,\n",
              "       0, 1, 0, 0, 0, 0, 0, 0, 0, 0, 0, 0, 0, 0, 0, 0, 0, 0, 0, 0, 0, 0,\n",
              "       0, 0, 0, 0, 0, 0, 0, 0, 0, 0, 0, 0, 0, 0, 0, 0, 0, 0, 0, 0, 0, 0,\n",
              "       0, 0, 0, 0, 0, 0, 0, 0, 0, 0, 0, 0, 0, 0, 0, 0, 0, 0, 0, 0, 0, 0,\n",
              "       0], dtype=uint8)"
            ]
          },
          "metadata": {},
          "execution_count": 90
        }
      ]
    },
    {
      "cell_type": "code",
      "source": [
        "#AUC Score\n",
        "auc_score_dtree = roc_auc_score(y_test, dtree.predict(X_test))\n",
        "fpr_dtree, tpr_dtree, thresholds_dtree = roc_curve(y_test, dtree.predict_proba(X_test)[:,1])\n",
        "print(\"AUC Score:\",auc_score_dtree)"
      ],
      "metadata": {
        "id": "sb0djNlKMsIg",
        "colab": {
          "base_uri": "https://localhost:8080/"
        },
        "outputId": "5d8f7aa5-d3a6-476f-940c-bc8ef1799ef5"
      },
      "execution_count": 91,
      "outputs": [
        {
          "output_type": "stream",
          "name": "stdout",
          "text": [
            "AUC Score: 1.0\n"
          ]
        }
      ]
    },
    {
      "cell_type": "code",
      "source": [
        "#Confusion Matrix\n",
        "cm_dtree = confusion_matrix(y_test, y_pred_dtree)\n",
        "\n",
        "#Plotting the confusion matrix\n",
        "ax = sns.heatmap(cm_dtree, annot=True, annot_kws={\"fontsize\":18}, cmap='PuBu', fmt='.3g', linewidths=1, linecolor='black')\n",
        "ax.set_title('Confusion Matrix');\n",
        "ax.set_xlabel('Predicted Values')\n",
        "ax.set_ylabel('Actual Values ');\n",
        "\n",
        "## Ticket labels - List must be in alphabetical order\n",
        "ax.xaxis.set_ticklabels(['False','True'])\n",
        "ax.yaxis.set_ticklabels(['False','True'])\n",
        "\n",
        "## Display the visualization of the Confusion Matrix.\n",
        "plt.show()"
      ],
      "metadata": {
        "id": "kyzHFt6v21lw",
        "colab": {
          "base_uri": "https://localhost:8080/",
          "height": 295
        },
        "outputId": "131f6e96-557c-4015-9fd0-29766fdfb98b"
      },
      "execution_count": 92,
      "outputs": [
        {
          "output_type": "display_data",
          "data": {
            "text/plain": [
              "<Figure size 432x288 with 2 Axes>"
            ],
            "image/png": "[encoded data removed]"
          },
          "metadata": {
            "needs_background": "light"
          }
        }
      ]
    },
    {
      "cell_type": "code",
      "source": [
        "#Evaluation Strategy\n",
        "TP_dtree = cm_dtree[1, 1]\n",
        "TN_dtree = cm_dtree[0, 0]\n",
        "FP_dtree = cm_dtree[0, 1]\n",
        "FN_dtree = cm_dtree[1, 0]\n",
        "\n",
        "# 1.  Sensitivity\n",
        "sensitivity_dtree = TP_dtree / float(TP_dtree + FN_dtree)\n",
        "print(\"Sensitivity:\",sensitivity_dtree)\n",
        "\n",
        "# 2.  Specificity\n",
        "specificity_dtree = TN_dtree / float(TN_dtree + FP_dtree)\n",
        "print(\"Specificity:\",specificity_dtree)\n",
        "\n",
        "# 3.  Precision\n",
        "precision_dtree = TP_dtree / float(TP_dtree + FP_dtree)\n",
        "print(\"Precision:\",precision_dtree)\n",
        "\n",
        "# 4.  Accuracy\n",
        "accuracy_dtree = (TP_dtree + TN_dtree) / float(TP_dtree + TN_dtree + FN_dtree + FP_dtree)\n",
        "print(\"Accuracy:\",accuracy_dtree)"
      ],
      "metadata": {
        "id": "PpWhyD122-M6",
        "colab": {
          "base_uri": "https://localhost:8080/"
        },
        "outputId": "9da1ee6a-61cd-4492-d203-61fa9fddd18f"
      },
      "execution_count": 93,
      "outputs": [
        {
          "output_type": "stream",
          "name": "stdout",
          "text": [
            "Sensitivity: 1.0\n",
            "Specificity: 1.0\n",
            "Precision: 1.0\n",
            "Accuracy: 1.0\n"
          ]
        }
      ]
    },
    {
      "cell_type": "markdown",
      "source": [
        "#### **Logistic Regression**"
      ],
      "metadata": {
        "id": "ihyU5PVk-J-p"
      }
    },
    {
      "cell_type": "code",
      "source": [
        "#Making LogisticRegression Model\n",
        "classifier = LogisticRegression(random_state=0)\n",
        "start = time.time()\n",
        "classifier.fit(X_train,y_train)\n",
        "stop = time.time()\n",
        "log_time = f\"{stop - start}\""
      ],
      "metadata": {
        "id": "c43lSb4wvG0p"
      },
      "execution_count": 94,
      "outputs": []
    },
    {
      "cell_type": "code",
      "source": [
        "#Making predictions on test data\n",
        "y_pred_log = classifier.predict(X_test)\n",
        "\n",
        "#Displaying the predictions\n",
        "y_pred_log"
      ],
      "metadata": {
        "id": "vnPXchgT-x15",
        "colab": {
          "base_uri": "https://localhost:8080/"
        },
        "outputId": "4c92632c-318b-4af0-c50d-80d721741468"
      },
      "execution_count": 95,
      "outputs": [
        {
          "output_type": "execute_result",
          "data": {
            "text/plain": [
              "array([0, 0, 0, 0, 1, 0, 0, 0, 0, 0, 0, 0, 0, 0, 0, 0, 0, 0, 0, 0, 0, 0,\n",
              "       0, 0, 0, 0, 0, 0, 0, 0, 0, 0, 0, 0, 0, 0, 0, 0, 0, 0, 0, 0, 0, 0,\n",
              "       0, 0, 0, 0, 0, 0, 0, 0, 0, 0, 0, 0, 0, 0, 1, 0, 0, 0, 0, 0, 0, 0,\n",
              "       0, 0, 0, 0, 0, 0, 0, 0, 0, 0, 0, 0, 0, 0, 0, 0, 0, 0, 0, 0, 0, 0,\n",
              "       0, 0, 0, 0, 0, 0, 0, 0, 0, 0, 0, 0, 0, 0, 0, 0, 0, 0, 0, 1, 0, 0,\n",
              "       1, 0, 0, 0, 0, 0, 0, 0, 0, 0, 0, 0, 0, 0, 0, 0, 0, 0, 0, 0, 0, 0,\n",
              "       0, 0, 0, 0, 0, 0, 0, 0, 0, 0, 0, 0, 0, 0, 0, 1, 0, 0, 0, 0, 0, 0,\n",
              "       0, 0, 0, 0, 0, 0, 0, 0, 0, 0, 0, 0, 0, 1, 0, 0, 0, 0, 0, 0, 0, 0,\n",
              "       0, 0, 0, 0, 0, 0, 0, 0, 0, 0, 0, 0, 0, 0, 0, 0, 0, 0, 0, 0, 0, 0,\n",
              "       0, 0, 0, 0, 0, 0, 0, 0, 0, 0, 0, 0, 0, 0, 0, 0, 0, 0, 0, 0, 0, 0,\n",
              "       0, 1, 0, 0, 0, 0, 0, 0, 0, 0, 0, 0, 0, 0, 0, 0, 0, 0, 0, 0, 0, 0,\n",
              "       0, 0, 0, 0, 0, 0, 0, 0, 0, 0, 0, 0, 0, 0, 0, 0, 0, 0, 0, 0, 0, 0,\n",
              "       0, 0, 0, 0, 0, 0, 0, 0, 0, 0, 0, 0, 0, 0, 0, 0, 0, 0, 0, 0, 0, 0,\n",
              "       0], dtype=uint8)"
            ]
          },
          "metadata": {},
          "execution_count": 95
        }
      ]
    },
    {
      "cell_type": "code",
      "source": [
        "#AUC Score\n",
        "auc_score_classifier = roc_auc_score(y_test, classifier.predict(X_test))\n",
        "fpr_classifier, tpr_classifier, thresholds_classifier = roc_curve(y_test, classifier.predict_proba(X_test)[:,1])\n",
        "print(\"AUC Score:\",auc_score_classifier)"
      ],
      "metadata": {
        "id": "cNvDBzV2_ppU",
        "colab": {
          "base_uri": "https://localhost:8080/"
        },
        "outputId": "400ab994-347f-439f-a436-70511dd4aa7d"
      },
      "execution_count": 96,
      "outputs": [
        {
          "output_type": "stream",
          "name": "stdout",
          "text": [
            "AUC Score: 0.9375\n"
          ]
        }
      ]
    },
    {
      "cell_type": "code",
      "source": [
        "#Confusion Matrix\n",
        "cm_log = confusion_matrix(y_test, y_pred_log)\n",
        "\n",
        "#Plotting the confusion matrix\n",
        "ax = sns.heatmap(cm_log, annot=True, annot_kws={\"fontsize\":18}, cmap='PuBu', fmt='.3g', linewidths=1, linecolor='black')\n",
        "ax.set_title('Confusion Matrix');\n",
        "ax.set_xlabel('Predicted Values')\n",
        "ax.set_ylabel('Actual Values ');\n",
        "\n",
        "## Ticket labels - List must be in alphabetical order\n",
        "ax.xaxis.set_ticklabels(['False','True'])\n",
        "ax.yaxis.set_ticklabels(['False','True'])\n",
        "\n",
        "## Display the visualization of the Confusion Matrix.\n",
        "plt.show()"
      ],
      "metadata": {
        "id": "uRKp4J23A_r0",
        "colab": {
          "base_uri": "https://localhost:8080/",
          "height": 295
        },
        "outputId": "6bd85779-d55c-4758-f91d-d85912d11e95"
      },
      "execution_count": 97,
      "outputs": [
        {
          "output_type": "display_data",
          "data": {
            "text/plain": [
              "<Figure size 432x288 with 2 Axes>"
            ],
            "image/png": "[encoded data removed]"
          },
          "metadata": {
            "needs_background": "light"
          }
        }
      ]
    },
    {
      "cell_type": "code",
      "source": [
        "#Evaluation Strategy\n",
        "TP_log = cm_log[1, 1]\n",
        "TN_log = cm_log[0, 0]\n",
        "FP_log = cm_log[0, 1]\n",
        "FN_log = cm_log[1, 0]\n",
        "\n",
        "# 1.  Sensitivity\n",
        "sensitivity_log = TP_log / float(TP_log + FN_log)\n",
        "print(\"Sensitivity:\",sensitivity_log)\n",
        "\n",
        "# 2.  Specificity\n",
        "specificity_log = TN_log / float(TN_log + FP_log)\n",
        "print(\"Specificity:\",specificity_log)\n",
        "\n",
        "# 3.  Precision\n",
        "precision_log = TP_log / float(TP_log + FP_log)\n",
        "print(\"Precision:\",precision_log)\n",
        "\n",
        "# 4.  Accuracy\n",
        "accuracy_log = (TP_log + TN_log) / float(TP_log + TN_log + FN_log + FP_log)\n",
        "print(\"Accuracy:\",accuracy_log)"
      ],
      "metadata": {
        "id": "_4ZAfDmwBMMt",
        "colab": {
          "base_uri": "https://localhost:8080/"
        },
        "outputId": "d332e734-aad4-4d12-b583-b0c037c0e4ea"
      },
      "execution_count": 98,
      "outputs": [
        {
          "output_type": "stream",
          "name": "stdout",
          "text": [
            "Sensitivity: 0.875\n",
            "Specificity: 1.0\n",
            "Precision: 1.0\n",
            "Accuracy: 0.9965156794425087\n"
          ]
        }
      ]
    },
    {
      "cell_type": "markdown",
      "source": [
        "#### **Support Vector Machines (SVM)**"
      ],
      "metadata": {
        "id": "PSUkw1-Q7QJv"
      }
    },
    {
      "cell_type": "code",
      "source": [
        "#Making Support Vector Machines (SVM) Model\n",
        "svm = SVC(probability=True, kernel = 'linear')\n",
        "start = time.time()\n",
        "svm.fit(X_train, y_train)\n",
        "stop = time.time()\n",
        "svm_time = f\"{stop - start}\""
      ],
      "metadata": {
        "id": "aYFLkNh2yovc"
      },
      "execution_count": 99,
      "outputs": []
    },
    {
      "cell_type": "code",
      "source": [
        "#Making predictions on test data\n",
        "y_pred_svm = svm.predict(X_test)\n",
        "\n",
        "#Displaying the predictions\n",
        "y_pred_svm"
      ],
      "metadata": {
        "id": "zEj2Kz_K8Z_v",
        "colab": {
          "base_uri": "https://localhost:8080/"
        },
        "outputId": "8986098a-172b-4d75-c62a-d4382c5b9920"
      },
      "execution_count": 100,
      "outputs": [
        {
          "output_type": "execute_result",
          "data": {
            "text/plain": [
              "array([1, 0, 0, 0, 1, 0, 0, 0, 0, 0, 0, 0, 0, 0, 0, 0, 0, 0, 0, 0, 0, 0,\n",
              "       0, 0, 0, 0, 0, 0, 0, 0, 0, 0, 0, 0, 0, 0, 0, 0, 0, 0, 0, 0, 0, 0,\n",
              "       0, 0, 0, 0, 0, 0, 0, 0, 0, 0, 0, 0, 0, 0, 1, 0, 0, 0, 0, 0, 0, 0,\n",
              "       0, 0, 0, 0, 0, 0, 0, 0, 0, 0, 0, 0, 0, 0, 0, 0, 0, 0, 0, 0, 0, 0,\n",
              "       0, 0, 0, 0, 0, 0, 0, 0, 0, 0, 0, 0, 0, 0, 0, 0, 0, 0, 0, 1, 0, 0,\n",
              "       1, 0, 0, 0, 0, 0, 0, 0, 0, 0, 0, 0, 0, 0, 0, 0, 0, 0, 0, 0, 0, 0,\n",
              "       0, 0, 0, 0, 0, 0, 0, 0, 0, 0, 0, 0, 0, 0, 0, 1, 0, 0, 0, 0, 0, 0,\n",
              "       0, 0, 0, 0, 0, 0, 0, 0, 0, 0, 0, 0, 0, 1, 0, 0, 0, 0, 0, 0, 0, 0,\n",
              "       0, 0, 0, 0, 0, 0, 0, 0, 0, 0, 0, 0, 0, 0, 0, 0, 0, 0, 0, 0, 0, 0,\n",
              "       0, 0, 0, 0, 0, 0, 0, 0, 0, 0, 0, 0, 0, 0, 0, 0, 0, 0, 0, 0, 0, 0,\n",
              "       0, 1, 0, 0, 0, 0, 0, 0, 0, 0, 0, 0, 0, 0, 0, 0, 0, 0, 0, 0, 0, 0,\n",
              "       0, 0, 0, 0, 0, 0, 0, 0, 0, 0, 0, 0, 0, 0, 0, 0, 0, 0, 0, 0, 0, 0,\n",
              "       0, 0, 0, 0, 0, 0, 0, 0, 0, 0, 0, 0, 0, 0, 0, 0, 0, 0, 0, 0, 0, 0,\n",
              "       0], dtype=uint8)"
            ]
          },
          "metadata": {},
          "execution_count": 100
        }
      ]
    },
    {
      "cell_type": "code",
      "source": [
        "#AUC Score\n",
        "auc_score_svm = roc_auc_score(y_test, svm.predict(X_test))\n",
        "fpr_svm, tpr_svm, thresholds_svm = roc_curve(y_test, svm.predict_proba(X_test)[:,1])\n",
        "print(\"AUC Score:\",auc_score_svm)"
      ],
      "metadata": {
        "id": "DwYfyvQ7M3r9",
        "colab": {
          "base_uri": "https://localhost:8080/"
        },
        "outputId": "582b28f1-21f0-4554-d7a2-7959a706b0cd"
      },
      "execution_count": 101,
      "outputs": [
        {
          "output_type": "stream",
          "name": "stdout",
          "text": [
            "AUC Score: 1.0\n"
          ]
        }
      ]
    },
    {
      "cell_type": "code",
      "source": [
        "#Confusion Matrix\n",
        "cm_svm = confusion_matrix(y_test, y_pred_svm)\n",
        "\n",
        "#Plotting the confusion matrix\n",
        "ax = sns.heatmap(cm_svm, annot=True, annot_kws={\"fontsize\":18}, cmap='PuBu', fmt='.3g', linewidths=1, linecolor='black')\n",
        "ax.set_title('Confusion Matrix');\n",
        "ax.set_xlabel('Predicted Values')\n",
        "ax.set_ylabel('Actual Values ');\n",
        "\n",
        "## Ticket labels - List must be in alphabetical order\n",
        "ax.xaxis.set_ticklabels(['False','True'])\n",
        "ax.yaxis.set_ticklabels(['False','True'])\n",
        "\n",
        "## Display the visualization of the Confusion Matrix.\n",
        "plt.show()"
      ],
      "metadata": {
        "id": "9_oHFL2A8hcx",
        "colab": {
          "base_uri": "https://localhost:8080/",
          "height": 295
        },
        "outputId": "3009e452-f9da-4187-a27b-bfe498eae7f9"
      },
      "execution_count": 102,
      "outputs": [
        {
          "output_type": "display_data",
          "data": {
            "text/plain": [
              "<Figure size 432x288 with 2 Axes>"
            ],
            "image/png": "[encoded data removed]"
          },
          "metadata": {
            "needs_background": "light"
          }
        }
      ]
    },
    {
      "cell_type": "code",
      "source": [
        "#Evaluation Strategy\n",
        "TP_svm = cm_svm[1, 1]\n",
        "TN_svm = cm_svm[0, 0]\n",
        "FP_svm = cm_svm[0, 1]\n",
        "FN_svm = cm_svm[1, 0]\n",
        "\n",
        "# 1.  Sensitivity\n",
        "sensitivity_svm = TP_svm / float(TP_svm + FN_svm)\n",
        "print(\"Sensitivity:\",sensitivity_svm)\n",
        "\n",
        "# 2.  Specificity\n",
        "specificity_svm = TN_svm / float(TN_svm + FP_svm)\n",
        "print(\"Specificity:\",specificity_svm)\n",
        "\n",
        "# 3.  Precision\n",
        "precision_svm = TP_svm / float(TP_svm + FP_svm)\n",
        "print(\"Precision:\",precision_svm)\n",
        "\n",
        "# 4.  Accuracy\n",
        "accuracy_svm = (TP_svm + TN_svm) / float(TP_svm + TN_svm + FN_svm + FP_svm)\n",
        "print(\"Accuracy:\",accuracy_svm)"
      ],
      "metadata": {
        "id": "q5uaxjUt8o6z",
        "colab": {
          "base_uri": "https://localhost:8080/"
        },
        "outputId": "d496331c-84bc-4f39-89b8-2b55e07cc378"
      },
      "execution_count": 103,
      "outputs": [
        {
          "output_type": "stream",
          "name": "stdout",
          "text": [
            "Sensitivity: 1.0\n",
            "Specificity: 1.0\n",
            "Precision: 1.0\n",
            "Accuracy: 1.0\n"
          ]
        }
      ]
    },
    {
      "cell_type": "markdown",
      "source": [
        "#### **ROC Curve**"
      ],
      "metadata": {
        "id": "M5NO-omYzgYP"
      }
    },
    {
      "cell_type": "code",
      "source": [
        "#Plotting the ROC Curve\n",
        "plt.figure(figsize=(15,5))\n",
        "plt.plot(fpr_knn, tpr_knn, label='K-Nearest-Neighbors (kNN): AUC = %0.2f' % auc_score_knn, linewidth=2)\n",
        "plt.plot(fpr_dtree, tpr_dtree, label='DecisionTree Classifier: AUC = %0.2f' % auc_score_dtree, linewidth=2)\n",
        "plt.plot(fpr_classifier, tpr_classifier, label='Logistic Regression: AUC = %0.2f' % auc_score_classifier, linewidth=2)\n",
        "plt.plot(fpr_svm, tpr_svm, label='Support Vector Machines (SVM): AUC = %0.2f' % auc_score_svm, linewidth=3, linestyle='dashed')\n",
        "plt.plot([0, 1], [0, 1],'p--')\n",
        "plt.xlim([-0.003, 1.0])\n",
        "plt.ylim([-0.003, 1.05])\n",
        "plt.xlabel('False Positive Rate')\n",
        "plt.ylabel('True Positive Rate')\n",
        "plt.title('Receiver Operating Characteristic')\n",
        "plt.legend()\n",
        "plt.show()"
      ],
      "metadata": {
        "colab": {
          "base_uri": "https://localhost:8080/",
          "height": 350
        },
        "id": "GRdEzqAszfTc",
        "outputId": "89f5fad5-8cd1-4906-9411-0fbdb9182c27"
      },
      "execution_count": 104,
      "outputs": [
        {
          "output_type": "display_data",
          "data": {
            "text/plain": [
              "<Figure size 1080x360 with 1 Axes>"
            ],
            "image/png": "[encoded data removed]"
          },
          "metadata": {
            "needs_background": "light"
          }
        }
      ]
    },
    {
      "cell_type": "markdown",
      "source": [
        "## **Evaluation Metrics**"
      ],
      "metadata": {
        "id": "Yf4Cfw_Lb-aG"
      }
    },
    {
      "cell_type": "code",
      "source": [
        "#Evaluation Metrics for different models\n",
        "columns = ['Model', 'Sensitivity', 'Specificity', 'Precision', 'Accuracy', 'Running Time(s)']\n",
        "evaluation_met = pd.DataFrame(columns=columns)\n",
        "\n",
        "evaluation_met['Model'] = ['KNeighborsClassifier', 'DecisionTreeClassifier', 'Logistic Regression', 'SVM(linear)']\n",
        "evaluation_met['Sensitivity'] = [sensitivity_knn, sensitivity_dtree, sensitivity_log, sensitivity_svm]\n",
        "evaluation_met['Specificity'] = [specificity_knn, specificity_dtree, specificity_log, specificity_svm]\n",
        "evaluation_met['Precision'] = [precision_knn, precision_dtree, precision_log, precision_svm]\n",
        "evaluation_met['Accuracy'] = [accuracy_knn, accuracy_dtree, accuracy_log, accuracy_svm]\n",
        "evaluation_met['Running Time(s)'] = [knn_time, dtree_time, log_time, svm_time]\n",
        "\n",
        "evaluation_met"
      ],
      "metadata": {
        "colab": {
          "base_uri": "https://localhost:8080/",
          "height": 174
        },
        "id": "cA57dos3Wbzl",
        "outputId": "618cd24a-74dd-46f7-fb08-696ddc9c1404"
      },
      "execution_count": 105,
      "outputs": [
        {
          "output_type": "execute_result",
          "data": {
            "text/plain": [
              "                    Model  Sensitivity  Specificity  Precision  Accuracy  \\\n",
              "0    KNeighborsClassifier        0.250          1.0        1.0  0.979094   \n",
              "1  DecisionTreeClassifier        1.000          1.0        1.0  1.000000   \n",
              "2     Logistic Regression        0.875          1.0        1.0  0.996516   \n",
              "3             SVM(linear)        1.000          1.0        1.0  1.000000   \n",
              "\n",
              "         Running Time(s)  \n",
              "0  0.0010581016540527344  \n",
              "1   0.002351999282836914  \n",
              "2   0.054990530014038086  \n",
              "3    0.09763121604919434  "
            ],
            "text/html": [
              "\n",
              "  <div id=\"df-b0fa3dc7-85a6-4b8f-bf6e-92b7fd90d552\">\n",
              "    <div class=\"colab-df-container\">\n",
              "      <div>\n",
              "<style scoped>\n",
              "    .dataframe tbody tr th:only-of-type {\n",
              "        vertical-align: middle;\n",
              "    }\n",
              "\n",
              "    .dataframe tbody tr th {\n",
              "        vertical-align: top;\n",
              "    }\n",
              "\n",
              "    .dataframe thead th {\n",
              "        text-align: right;\n",
              "    }\n",
              "</style>\n",
              "<table border=\"1\" class=\"dataframe\">\n",
              "  <thead>\n",
              "    <tr style=\"text-align: right;\">\n",
              "      <th></th>\n",
              "      <th>Model</th>\n",
              "      <th>Sensitivity</th>\n",
              "      <th>Specificity</th>\n",
              "      <th>Precision</th>\n",
              "      <th>Accuracy</th>\n",
              "      <th>Running Time(s)</th>\n",
              "    </tr>\n",
              "  </thead>\n",
              "  <tbody>\n",
              "    <tr>\n",
              "      <th>0</th>\n",
              "      <td>KNeighborsClassifier</td>\n",
              "      <td>0.250</td>\n",
              "      <td>1.0</td>\n",
              "      <td>1.0</td>\n",
              "      <td>0.979094</td>\n",
              "      <td>0.0010581016540527344</td>\n",
              "    </tr>\n",
              "    <tr>\n",
              "      <th>1</th>\n",
              "      <td>DecisionTreeClassifier</td>\n",
              "      <td>1.000</td>\n",
              "      <td>1.0</td>\n",
              "      <td>1.0</td>\n",
              "      <td>1.000000</td>\n",
              "      <td>0.002351999282836914</td>\n",
              "    </tr>\n",
              "    <tr>\n",
              "      <th>2</th>\n",
              "      <td>Logistic Regression</td>\n",
              "      <td>0.875</td>\n",
              "      <td>1.0</td>\n",
              "      <td>1.0</td>\n",
              "      <td>0.996516</td>\n",
              "      <td>0.054990530014038086</td>\n",
              "    </tr>\n",
              "    <tr>\n",
              "      <th>3</th>\n",
              "      <td>SVM(linear)</td>\n",
              "      <td>1.000</td>\n",
              "      <td>1.0</td>\n",
              "      <td>1.0</td>\n",
              "      <td>1.000000</td>\n",
              "      <td>0.09763121604919434</td>\n",
              "    </tr>\n",
              "  </tbody>\n",
              "</table>\n",
              "</div>\n",
              "      <button class=\"colab-df-convert\" onclick=\"convertToInteractive('df-b0fa3dc7-85a6-4b8f-bf6e-92b7fd90d552')\"\n",
              "              title=\"Convert this dataframe to an interactive table.\"\n",
              "              style=\"display:none;\">\n",
              "        \n",
              "  <svg xmlns=\"http://www.w3.org/2000/svg\" height=\"24px\"viewBox=\"0 0 24 24\"\n",
              "       width=\"24px\">\n",
              "    <path d=\"M0 0h24v24H0V0z\" fill=\"none\"/>\n",
              "    <path d=\"M18.56 5.44l.94 2.06.94-2.06 2.06-.94-2.06-.94-.94-2.06-.94 2.06-2.06.94zm-11 1L8.5 8.5l.94-2.06 2.06-.94-2.06-.94L8.5 2.5l-.94 2.06-2.06.94zm10 10l.94 2.06.94-2.06 2.06-.94-2.06-.94-.94-2.06-.94 2.06-2.06.94z\"/><path d=\"M17.41 7.96l-1.37-1.37c-.4-.4-.92-.59-1.43-.59-.52 0-1.04.2-1.43.59L10.3 9.45l-7.72 7.72c-.78.78-.78 2.05 0 2.83L4 21.41c.39.39.9.59 1.41.59.51 0 1.02-.2 1.41-.59l7.78-7.78 2.81-2.81c.8-.78.8-2.07 0-2.86zM5.41 20L4 18.59l7.72-7.72 1.47 1.35L5.41 20z\"/>\n",
              "  </svg>\n",
              "      </button>\n",
              "      \n",
              "  <style>\n",
              "    .colab-df-container {\n",
              "      display:flex;\n",
              "      flex-wrap:wrap;\n",
              "      gap: 12px;\n",
              "    }\n",
              "\n",
              "    .colab-df-convert {\n",
              "      background-color: #E8F0FE;\n",
              "      border: none;\n",
              "      border-radius: 50%;\n",
              "      cursor: pointer;\n",
              "      display: none;\n",
              "      fill: #1967D2;\n",
              "      height: 32px;\n",
              "      padding: 0 0 0 0;\n",
              "      width: 32px;\n",
              "    }\n",
              "\n",
              "    .colab-df-convert:hover {\n",
              "      background-color: #E2EBFA;\n",
              "      box-shadow: 0px 1px 2px rgba(60, 64, 67, 0.3), 0px 1px 3px 1px rgba(60, 64, 67, 0.15);\n",
              "      fill: #174EA6;\n",
              "    }\n",
              "\n",
              "    [theme=dark] .colab-df-convert {\n",
              "      background-color: #3B4455;\n",
              "      fill: #D2E3FC;\n",
              "    }\n",
              "\n",
              "    [theme=dark] .colab-df-convert:hover {\n",
              "      background-color: #434B5C;\n",
              "      box-shadow: 0px 1px 3px 1px rgba(0, 0, 0, 0.15);\n",
              "      filter: drop-shadow(0px 1px 2px rgba(0, 0, 0, 0.3));\n",
              "      fill: #FFFFFF;\n",
              "    }\n",
              "  </style>\n",
              "\n",
              "      <script>\n",
              "        const buttonEl =\n",
              "          document.querySelector('#df-b0fa3dc7-85a6-4b8f-bf6e-92b7fd90d552 button.colab-df-convert');\n",
              "        buttonEl.style.display =\n",
              "          google.colab.kernel.accessAllowed ? 'block' : 'none';\n",
              "\n",
              "        async function convertToInteractive(key) {\n",
              "          const element = document.querySelector('#df-b0fa3dc7-85a6-4b8f-bf6e-92b7fd90d552');\n",
              "          const dataTable =\n",
              "            await google.colab.kernel.invokeFunction('convertToInteractive',\n",
              "                                                     [key], {});\n",
              "          if (!dataTable) return;\n",
              "\n",
              "          const docLinkHtml = 'Like what you see? Visit the ' +\n",
              "            '<a target=\"_blank\" href=https://colab.research.google.com/notebooks/data_table.ipynb>data table notebook</a>'\n",
              "            + ' to learn more about interactive tables.';\n",
              "          element.innerHTML = '';\n",
              "          dataTable['output_type'] = 'display_data';\n",
              "          await google.colab.output.renderOutput(dataTable, element);\n",
              "          const docLink = document.createElement('div');\n",
              "          docLink.innerHTML = docLinkHtml;\n",
              "          element.appendChild(docLink);\n",
              "        }\n",
              "      </script>\n",
              "    </div>\n",
              "  </div>\n",
              "  "
            ]
          },
          "metadata": {},
          "execution_count": 105
        }
      ]
    }
  ]
}